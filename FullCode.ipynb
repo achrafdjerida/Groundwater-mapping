{
  "cells": [
    {
      "cell_type": "markdown",
      "metadata": {
        "id": "zyEOI61ZdVKg"
      },
      "source": [
        "Dataset preprocessing"
      ]
    },
    {
      "cell_type": "markdown",
      "metadata": {
        "id": "OiPgsvbDDP8b"
      },
      "source": [
        ""
      ]
    },
    {
      "cell_type": "code",
      "execution_count": null,
      "metadata": {
        "id": "epsq1mMedYJn"
      },
      "outputs": [],
      "source": [
        "import numpy as np\n",
        "import matplotlib.pyplot as plt\n",
        "import pandas as pd\n",
        "\n",
        "dataset1 = pd.read_csv('/content/20_Boreholes.txt',sep=\";\",decimal=\",\")\n",
        "dataset1.info()\n",
        "dataset1.head(5)\n",
        "\n",
        "\n"
      ]
    },
    {
      "cell_type": "code",
      "execution_count": null,
      "metadata": {
        "id": "PLQrvEZDeaqo"
      },
      "outputs": [],
      "source": [
        "# other than original \n",
        "x = dataset1.iloc[:, -7:].values  \n",
        "y_class=dataset1.iloc[:, -9].values\n",
        "\n",
        "\n",
        "print(x)\n",
        "print(y_class)\n",
        "\n",
        "print(\"Number of vlaues for each Class \",pd.value_counts(dataset1['Class']))"
      ]
    },
    {
      "cell_type": "code",
      "execution_count": null,
      "metadata": {
        "id": "gEdkZjYiH7-d"
      },
      "outputs": [],
      "source": [
        "SX_test = dataset2.iloc[:, -7:].values  \n",
        "SY_test=dataset2.iloc[:, -9].values\n",
        "\n",
        "print(SX_test)\n",
        "#print(x.shape)\n",
        "#y_class.shape\n",
        "print(SY_test)\n",
        "#dataset1.describe()\n",
        "print(\"Number of vlaues for each Class \",pd.value_counts(dataset2['Class']))"
      ]
    },
    {
      "cell_type": "code",
      "execution_count": null,
      "metadata": {
        "id": "l0ExgMzxfPh3"
      },
      "outputs": [],
      "source": [
        "from sklearn.preprocessing import  LabelEncoder\n",
        "from sklearn.model_selection import train_test_split\n",
        "from sklearn.metrics import roc_curve, auc\n",
        "from sklearn.preprocessing import label_binarize\n",
        "from sklearn.multiclass import OneVsRestClassifier\n",
        "from sklearn.metrics import roc_auc_score\n",
        "from sklearn.preprocessing import StandardScaler\n",
        "from sklearn.ensemble import RandomForestClassifier\n",
        "from sklearn import preprocessing\n",
        "\n",
        "\n",
        "RS=0\n",
        "\n",
        "x_train, x_test, y_train, y_test = train_test_split(x, y_class, test_size= 0.30,random_state=RS)\n",
        "\n",
        "\n",
        "sc_RF = StandardScaler()\n",
        "x_train = sc_RF.fit_transform(x_train)\n",
        "# Validation dataset\n",
        "x_test = sc_RF.transform(x_test)\n"
      ]
    },
    {
      "cell_type": "markdown",
      "metadata": {
        "id": "h1XbRXbHirFo"
      },
      "source": [
        "Random Forest"
      ]
    },
    {
      "cell_type": "code",
      "execution_count": null,
      "metadata": {
        "colab": {
          "base_uri": "https://localhost:8080/"
        },
        "id": "xJGS06u7hq1E",
        "outputId": "234678cb-6884-4b8f-c287-b0d05abcf21b"
      },
      "outputs": [
        {
          "output_type": "execute_result",
          "data": {
            "text/plain": [
              "RandomForestClassifier(max_depth=80, random_state=10)"
            ]
          },
          "metadata": {},
          "execution_count": 4
        }
      ],
      "source": [
        "# Learn to predict each class against the other   OneVsRestClassifier(classifier)\n",
        "classifier_RF = RandomForestClassifier(bootstrap=True,max_depth=80,max_features=\"auto\",min_samples_leaf=1,min_samples_split=2,n_estimators=100,random_state = 10)\n",
        "classifier_RF.fit(x_train, y_train)"
      ]
    },
    {
      "cell_type": "code",
      "execution_count": null,
      "metadata": {
        "colab": {
          "base_uri": "https://localhost:8080/"
        },
        "id": "nE3wfiwkip3b",
        "outputId": "9bdbb889-af12-4a4b-e1f0-ed62570f802a"
      },
      "outputs": [
        {
          "name": "stdout",
          "output_type": "stream",
          "text": [
            "Accuracy: 75.18 %\n",
            "Standard Deviation: 6.02 %\n"
          ]
        }
      ],
      "source": [
        "from sklearn.model_selection import cross_val_score\n",
        "accuracies = cross_val_score(estimator=classifier_RF, X = x_train , y = y_train, cv = 10)\n",
        "\n",
        "print('Accuracy: {:0.2f} %'.format(accuracies.mean()*100))\n",
        "print('Standard Deviation: {:0.2f} %'.format(accuracies.std()*100))"
      ]
    },
    {
      "cell_type": "markdown",
      "metadata": {
        "id": "DB_msMsJM1XU"
      },
      "source": [
        "Grid search"
      ]
    },
    {
      "cell_type": "code",
      "execution_count": null,
      "metadata": {
        "colab": {
          "base_uri": "https://localhost:8080/"
        },
        "id": "7lHnrPLT-PoE",
        "outputId": "72144216-3da1-423f-b4ca-8297679e15b5"
      },
      "outputs": [
        {
          "data": {
            "text/plain": [
              "({'bootstrap': True, 'max_depth': 80, 'n_estimators': 100}, 0.7637262763966854)"
            ]
          },
          "execution_count": 5,
          "metadata": {},
          "output_type": "execute_result"
        }
      ],
      "source": [
        "# Determine the value \n",
        "from sklearn.model_selection import GridSearchCV\n",
        "from sklearn.metrics import classification_report\n",
        "\n",
        "p_test3 = {'bootstrap': [True, False],'max_depth': [10, 40, 80, None], 'n_estimators':[100,250,500]}\n",
        "\n",
        "tuning = GridSearchCV(estimator =RandomForestClassifier(max_features=\"auto\",min_samples_leaf=1,min_samples_split=2),param_grid = p_test3, scoring='accuracy',n_jobs=4, cv=5)\n",
        "tuning.fit(x_train,y_train)\n",
        "tuning.best_params_, tuning.best_score_"
      ]
    },
    {
      "cell_type": "markdown",
      "metadata": {
        "id": "eKHp_fwGm9J_"
      },
      "source": [
        "ROC_Curve"
      ]
    },
    {
      "cell_type": "code",
      "execution_count": null,
      "metadata": {
        "id": "38ftSGNgm8jP"
      },
      "outputs": [],
      "source": [
        "#Calculate the y_score\n",
        "y_score = classifier_RF.predict_proba(x_test)\n",
        "#Binarize the output\n",
        "y_test_bin = label_binarize(y_test, classes=[1, 2, 3,4,5])\n",
        "n_classes = y_test_bin.shape[1]\n",
        "print('number of classes: ',n_classes)\n",
        "\n",
        "fpr_RF = dict()\n",
        "tpr_RF = dict()\n",
        "roc_auc_RF = dict()\n",
        "\n",
        "for i in range(n_classes):\n",
        "  fpr_RF[i], tpr_RF[i], _ = roc_curve(y_test_bin[:, i], y_score[:, i])\n",
        "  plt.plot(fpr_RF[i], tpr_RF[i], color='darkorange', lw=2)\n",
        "  print('AUC for Class {}: {}'.format(i+1, auc(fpr_RF[i], tpr_RF[i])))\n",
        "\n",
        "plt.plot([0, 1], [0, 1], color='navy', lw=2, linestyle='--')\n",
        "plt.xlim([0.0, 1.0])\n",
        "plt.ylim([0.0, 1.05])\n",
        "plt.xlabel('False Positive Rate')\n",
        "plt.ylabel('True Positive Rate')\n",
        "plt.title('Receiver Operating Characteristic Curves')\n",
        "plt.show()"
      ]
    },
    {
      "cell_type": "code",
      "execution_count": null,
      "metadata": {
        "id": "xQZxMfWehkq4"
      },
      "outputs": [],
      "source": [
        "# Compute micro-average ROC curve and ROC area\n",
        "fpr_RF[\"micro\"], tpr_RF[\"micro\"], _ = roc_curve(y_test_bin.ravel(), y_score.ravel())\n",
        "roc_auc_RF[\"micro\"] = auc(fpr_RF[\"micro\"], tpr_RF[\"micro\"])\n",
        "\n",
        "csfont = {'fontname':'Times New Roman'}\n",
        "\n",
        "plt.figure()\n",
        "lw = 3.5\n",
        "plt.plot(\n",
        "    fpr_RF[\"micro\"],\n",
        "    tpr_RF[\"micro\"],\n",
        "    color=\"deeppink\",\n",
        "    lw=lw,\n",
        "    label=\"RF ROC curve (AUC = %0.3f)\" % roc_auc_RF[\"micro\"],\n",
        ")\n",
        "plt.plot([0, 1], [0, 1], color=\"navy\", lw=lw, linestyle=\"--\")\n",
        "plt.xlim([0.0, 1.0])\n",
        "plt.ylim([0.0, 1])\n",
        "plt.xlabel(\"False Positive Rate\",**csfont,fontsize=14)\n",
        "plt.ylabel(\"True Positive Rate\",**csfont,fontsize=14)\n",
        "plt.title(\"Receiver operating characteristics \",**csfont,fontsize=15)\n",
        "plt.legend(loc=\"lower right\")\n",
        "plt.grid(axis='y')\n",
        "plt.savefig(\"ROC_RF.jpg\",bbox_inches='tight',dpi=600)\n",
        "plt.show()\n"
      ]
    },
    {
      "cell_type": "markdown",
      "metadata": {
        "id": "eKLrV8DznbrQ"
      },
      "source": [
        "Accuracy_Kappa"
      ]
    },
    {
      "cell_type": "code",
      "execution_count": null,
      "metadata": {
        "colab": {
          "base_uri": "https://localhost:8080/"
        },
        "id": "Lwg8KmeYnbGw",
        "outputId": "c2b16c4d-e80d-4a9c-a659-7874637a5a4a"
      },
      "outputs": [
        {
          "output_type": "stream",
          "name": "stdout",
          "text": [
            "(163,)\n",
            "Confusion Matrix: \n",
            "\n",
            "[[20  3  2  1  0]\n",
            " [ 2 52  2  2  0]\n",
            " [ 1  5 29  1  2]\n",
            " [ 0  1  3 14  0]\n",
            " [ 0  0  0  4 19]]\n",
            "\n",
            "overall Accuracy: 82.21 %\n",
            "              precision    recall  f1-score   support\n",
            "\n",
            "           1       0.87      0.77      0.82        26\n",
            "           2       0.85      0.90      0.87        58\n",
            "           3       0.81      0.76      0.78        38\n",
            "           4       0.64      0.78      0.70        18\n",
            "           5       0.90      0.83      0.86        23\n",
            "\n",
            "    accuracy                           0.82       163\n",
            "   macro avg       0.81      0.81      0.81       163\n",
            "weighted avg       0.83      0.82      0.82       163\n",
            "\n",
            "kappa : 0.766\n"
          ]
        }
      ],
      "source": [
        "from sklearn.metrics import confusion_matrix, accuracy_score,classification_report, cohen_kappa_score\n",
        "y_pred = classifier_RF.predict(x_test)\n",
        "np.set_printoptions(precision=2)\n",
        "print(y_pred.shape)\n",
        "\n",
        "\n",
        "#Calculate accuracy \n",
        "cm = confusion_matrix(y_test, y_pred)\n",
        "cr = classification_report(y_test, y_pred)\n",
        "print('Confusion Matrix: \\n')\n",
        "print(cm)\n",
        "\n",
        "print('\\noverall Accuracy: {:0.2f} %'.format(accuracy_score(y_test, y_pred)*100))  \n",
        "print(cr)\n",
        "\n",
        "k= cohen_kappa_score(y_test, y_pred)\n",
        "print('kappa : %0.3f'%k)"
      ]
    },
    {
      "cell_type": "code",
      "execution_count": null,
      "metadata": {
        "colab": {
          "base_uri": "https://localhost:8080/",
          "height": 315
        },
        "id": "NBIyV0qjngLb",
        "outputId": "4dbb8251-111d-476b-84de-3902727241b0"
      },
      "outputs": [
        {
          "output_type": "stream",
          "name": "stdout",
          "text": [
            "[0.24 0.03 0.1  0.09 0.18 0.14 0.21]\n"
          ]
        },
        {
          "output_type": "display_data",
          "data": {
            "text/plain": [
              "<Figure size 432x288 with 1 Axes>"
            ],
            "image/png": "[encoded data removed]"
          },
          "metadata": {
            "needs_background": "light"
          }
        }
      ],
      "source": [
        "importances = classifier_RF.feature_importances_\n",
        "\n",
        "\n",
        "\n",
        "\n",
        "#classifier_RF.feature_importances_\n",
        "forest_importances = pd.Series(importances, index=[\"Rainfall\",\"Landuse\",\"Linemant\",\"Lithology\",\"Drainage\",\"Slope\",\"DEM\"])\n",
        "csfont = {'fontname':'Times New Roman'}\n",
        "print(importances)\n",
        "std = np.std([tree.feature_importances_ for tree in classifier_RF.estimators_], axis=0)\n",
        "fig, ax = plt.subplots()\n",
        "forest_importances.plot.bar(yerr=std, ax=ax)\n",
        "ax.set_title(\"Feature importances \",**csfont,fontsize=15)\n",
        "ax.set_ylabel(\"Importance value\",**csfont,fontsize=15)\n",
        "fig.tight_layout()\n",
        "plt.grid()\n",
        "plt.savefig(\"importance.jpg\",bbox_inches='tight',dpi=600)"
      ]
    },
    {
      "cell_type": "markdown",
      "metadata": {
        "id": "McEtF1NEuchv"
      },
      "source": [
        "Predict the whole data"
      ]
    },
    {
      "cell_type": "code",
      "source": [
        "dataset1 = pd.read_csv('/content/20_Boreholes.txt',sep=\";\",decimal=\",\")\n",
        "dataset1.info()\n",
        "dataset1.head(5)"
      ],
      "metadata": {
        "colab": {
          "base_uri": "https://localhost:8080/",
          "height": 574
        },
        "id": "06SEOjpWJjNE",
        "outputId": "d2fb5f00-3229-4657-af73-4aa4ef5443cf"
      },
      "execution_count": null,
      "outputs": [
        {
          "output_type": "stream",
          "name": "stdout",
          "text": [
            "<class 'pandas.core.frame.DataFrame'>\n",
            "RangeIndex: 541 entries, 0 to 540\n",
            "Data columns (total 13 columns):\n",
            " #   Column      Non-Null Count  Dtype  \n",
            "---  ------      --------------  -----  \n",
            " 0   FID         541 non-null    int64  \n",
            " 1   OBJECTID    541 non-null    int64  \n",
            " 2   Level_ST    541 non-null    float64\n",
            " 3   GWL         541 non-null    float64\n",
            " 4   Class       541 non-null    int64  \n",
            " 5   NEAR_DIST   541 non-null    float64\n",
            " 6   Rainfall_e  541 non-null    float64\n",
            " 7   Landuse_ex  541 non-null    int64  \n",
            " 8   lineament_  541 non-null    float64\n",
            " 9   Geology_ex  541 non-null    int64  \n",
            " 10  Drainage_E  541 non-null    float64\n",
            " 11  slope_exte  541 non-null    float64\n",
            " 12  DEM_EXT     541 non-null    int64  \n",
            "dtypes: float64(7), int64(6)\n",
            "memory usage: 55.1 KB\n"
          ]
        },
        {
          "output_type": "execute_result",
          "data": {
            "text/plain": [
              "   FID  OBJECTID  Level_ST         GWL  Class  NEAR_DIST  Rainfall_e  \\\n",
              "0    0         1      43.0   43.000000      5        0.0  415.355011   \n",
              "1    1         2     102.1  102.099998      5        0.0  357.428009   \n",
              "2    2         3      17.9   34.310200      2        0.0  405.656006   \n",
              "3    3         4      15.0   13.004200      2        0.0  404.942993   \n",
              "4    4         5      35.0   34.999901      4        0.0  245.022995   \n",
              "\n",
              "   Landuse_ex  lineament_  Geology_ex  Drainage_E  slope_exte  DEM_EXT  \n",
              "0           8    0.000000           3    0.187792     5.42764      476  \n",
              "1           1    0.556626           8    0.234448     8.58893     1198  \n",
              "2           8    0.000000          24    2.370210    17.49400      458  \n",
              "3           8    0.000000          24    1.043940     9.73678      384  \n",
              "4           7    0.000000          20    1.365040     3.76924     1033  "
            ],
            "text/html": [
              "\n",
              "  <div id=\"df-e38b3d8b-ac00-44ac-b6f4-a6c17b2c71f0\">\n",
              "    <div class=\"colab-df-container\">\n",
              "      <div>\n",
              "<style scoped>\n",
              "    .dataframe tbody tr th:only-of-type {\n",
              "        vertical-align: middle;\n",
              "    }\n",
              "\n",
              "    .dataframe tbody tr th {\n",
              "        vertical-align: top;\n",
              "    }\n",
              "\n",
              "    .dataframe thead th {\n",
              "        text-align: right;\n",
              "    }\n",
              "</style>\n",
              "<table border=\"1\" class=\"dataframe\">\n",
              "  <thead>\n",
              "    <tr style=\"text-align: right;\">\n",
              "      <th></th>\n",
              "      <th>FID</th>\n",
              "      <th>OBJECTID</th>\n",
              "      <th>Level_ST</th>\n",
              "      <th>GWL</th>\n",
              "      <th>Class</th>\n",
              "      <th>NEAR_DIST</th>\n",
              "      <th>Rainfall_e</th>\n",
              "      <th>Landuse_ex</th>\n",
              "      <th>lineament_</th>\n",
              "      <th>Geology_ex</th>\n",
              "      <th>Drainage_E</th>\n",
              "      <th>slope_exte</th>\n",
              "      <th>DEM_EXT</th>\n",
              "    </tr>\n",
              "  </thead>\n",
              "  <tbody>\n",
              "    <tr>\n",
              "      <th>0</th>\n",
              "      <td>0</td>\n",
              "      <td>1</td>\n",
              "      <td>43.0</td>\n",
              "      <td>43.000000</td>\n",
              "      <td>5</td>\n",
              "      <td>0.0</td>\n",
              "      <td>415.355011</td>\n",
              "      <td>8</td>\n",
              "      <td>0.000000</td>\n",
              "      <td>3</td>\n",
              "      <td>0.187792</td>\n",
              "      <td>5.42764</td>\n",
              "      <td>476</td>\n",
              "    </tr>\n",
              "    <tr>\n",
              "      <th>1</th>\n",
              "      <td>1</td>\n",
              "      <td>2</td>\n",
              "      <td>102.1</td>\n",
              "      <td>102.099998</td>\n",
              "      <td>5</td>\n",
              "      <td>0.0</td>\n",
              "      <td>357.428009</td>\n",
              "      <td>1</td>\n",
              "      <td>0.556626</td>\n",
              "      <td>8</td>\n",
              "      <td>0.234448</td>\n",
              "      <td>8.58893</td>\n",
              "      <td>1198</td>\n",
              "    </tr>\n",
              "    <tr>\n",
              "      <th>2</th>\n",
              "      <td>2</td>\n",
              "      <td>3</td>\n",
              "      <td>17.9</td>\n",
              "      <td>34.310200</td>\n",
              "      <td>2</td>\n",
              "      <td>0.0</td>\n",
              "      <td>405.656006</td>\n",
              "      <td>8</td>\n",
              "      <td>0.000000</td>\n",
              "      <td>24</td>\n",
              "      <td>2.370210</td>\n",
              "      <td>17.49400</td>\n",
              "      <td>458</td>\n",
              "    </tr>\n",
              "    <tr>\n",
              "      <th>3</th>\n",
              "      <td>3</td>\n",
              "      <td>4</td>\n",
              "      <td>15.0</td>\n",
              "      <td>13.004200</td>\n",
              "      <td>2</td>\n",
              "      <td>0.0</td>\n",
              "      <td>404.942993</td>\n",
              "      <td>8</td>\n",
              "      <td>0.000000</td>\n",
              "      <td>24</td>\n",
              "      <td>1.043940</td>\n",
              "      <td>9.73678</td>\n",
              "      <td>384</td>\n",
              "    </tr>\n",
              "    <tr>\n",
              "      <th>4</th>\n",
              "      <td>4</td>\n",
              "      <td>5</td>\n",
              "      <td>35.0</td>\n",
              "      <td>34.999901</td>\n",
              "      <td>4</td>\n",
              "      <td>0.0</td>\n",
              "      <td>245.022995</td>\n",
              "      <td>7</td>\n",
              "      <td>0.000000</td>\n",
              "      <td>20</td>\n",
              "      <td>1.365040</td>\n",
              "      <td>3.76924</td>\n",
              "      <td>1033</td>\n",
              "    </tr>\n",
              "  </tbody>\n",
              "</table>\n",
              "</div>\n",
              "      <button class=\"colab-df-convert\" onclick=\"convertToInteractive('df-e38b3d8b-ac00-44ac-b6f4-a6c17b2c71f0')\"\n",
              "              title=\"Convert this dataframe to an interactive table.\"\n",
              "              style=\"display:none;\">\n",
              "        \n",
              "  <svg xmlns=\"http://www.w3.org/2000/svg\" height=\"24px\"viewBox=\"0 0 24 24\"\n",
              "       width=\"24px\">\n",
              "    <path d=\"M0 0h24v24H0V0z\" fill=\"none\"/>\n",
              "    <path d=\"M18.56 5.44l.94 2.06.94-2.06 2.06-.94-2.06-.94-.94-2.06-.94 2.06-2.06.94zm-11 1L8.5 8.5l.94-2.06 2.06-.94-2.06-.94L8.5 2.5l-.94 2.06-2.06.94zm10 10l.94 2.06.94-2.06 2.06-.94-2.06-.94-.94-2.06-.94 2.06-2.06.94z\"/><path d=\"M17.41 7.96l-1.37-1.37c-.4-.4-.92-.59-1.43-.59-.52 0-1.04.2-1.43.59L10.3 9.45l-7.72 7.72c-.78.78-.78 2.05 0 2.83L4 21.41c.39.39.9.59 1.41.59.51 0 1.02-.2 1.41-.59l7.78-7.78 2.81-2.81c.8-.78.8-2.07 0-2.86zM5.41 20L4 18.59l7.72-7.72 1.47 1.35L5.41 20z\"/>\n",
              "  </svg>\n",
              "      </button>\n",
              "      \n",
              "  <style>\n",
              "    .colab-df-container {\n",
              "      display:flex;\n",
              "      flex-wrap:wrap;\n",
              "      gap: 12px;\n",
              "    }\n",
              "\n",
              "    .colab-df-convert {\n",
              "      background-color: #E8F0FE;\n",
              "      border: none;\n",
              "      border-radius: 50%;\n",
              "      cursor: pointer;\n",
              "      display: none;\n",
              "      fill: #1967D2;\n",
              "      height: 32px;\n",
              "      padding: 0 0 0 0;\n",
              "      width: 32px;\n",
              "    }\n",
              "\n",
              "    .colab-df-convert:hover {\n",
              "      background-color: #E2EBFA;\n",
              "      box-shadow: 0px 1px 2px rgba(60, 64, 67, 0.3), 0px 1px 3px 1px rgba(60, 64, 67, 0.15);\n",
              "      fill: #174EA6;\n",
              "    }\n",
              "\n",
              "    [theme=dark] .colab-df-convert {\n",
              "      background-color: #3B4455;\n",
              "      fill: #D2E3FC;\n",
              "    }\n",
              "\n",
              "    [theme=dark] .colab-df-convert:hover {\n",
              "      background-color: #434B5C;\n",
              "      box-shadow: 0px 1px 3px 1px rgba(0, 0, 0, 0.15);\n",
              "      filter: drop-shadow(0px 1px 2px rgba(0, 0, 0, 0.3));\n",
              "      fill: #FFFFFF;\n",
              "    }\n",
              "  </style>\n",
              "\n",
              "      <script>\n",
              "        const buttonEl =\n",
              "          document.querySelector('#df-e38b3d8b-ac00-44ac-b6f4-a6c17b2c71f0 button.colab-df-convert');\n",
              "        buttonEl.style.display =\n",
              "          google.colab.kernel.accessAllowed ? 'block' : 'none';\n",
              "\n",
              "        async function convertToInteractive(key) {\n",
              "          const element = document.querySelector('#df-e38b3d8b-ac00-44ac-b6f4-a6c17b2c71f0');\n",
              "          const dataTable =\n",
              "            await google.colab.kernel.invokeFunction('convertToInteractive',\n",
              "                                                     [key], {});\n",
              "          if (!dataTable) return;\n",
              "\n",
              "          const docLinkHtml = 'Like what you see? Visit the ' +\n",
              "            '<a target=\"_blank\" href=https://colab.research.google.com/notebooks/data_table.ipynb>data table notebook</a>'\n",
              "            + ' to learn more about interactive tables.';\n",
              "          element.innerHTML = '';\n",
              "          dataTable['output_type'] = 'display_data';\n",
              "          await google.colab.output.renderOutput(dataTable, element);\n",
              "          const docLink = document.createElement('div');\n",
              "          docLink.innerHTML = docLinkHtml;\n",
              "          element.appendChild(docLink);\n",
              "        }\n",
              "      </script>\n",
              "    </div>\n",
              "  </div>\n",
              "  "
            ]
          },
          "metadata": {},
          "execution_count": 36
        }
      ]
    },
    {
      "cell_type": "code",
      "execution_count": null,
      "metadata": {
        "colab": {
          "base_uri": "https://localhost:8080/"
        },
        "id": "XLzyggsmuf3o",
        "outputId": "219b6b01-8522-43a1-dd3d-7c220de9cfc8"
      },
      "outputs": [
        {
          "output_type": "execute_result",
          "data": {
            "text/plain": [
              "RandomForestClassifier(max_depth=80, random_state=10)"
            ]
          },
          "metadata": {},
          "execution_count": 38
        }
      ],
      "source": [
        "#Train the whole data \n",
        "x = dataset1.iloc[:, -7:].values  # [-2,-4]\n",
        "y_class=dataset1.iloc[:, -9].values\n",
        "\n",
        "\n",
        "sc_RF_All = StandardScaler()\n",
        "x_train_All = sc_RF_All.fit_transform(x)\n",
        "\n",
        "\n",
        "classifier_ALL =RandomForestClassifier(bootstrap=True,max_depth=80,max_features=\"auto\",min_samples_leaf=1,min_samples_split=2,n_estimators=100,random_state = 10)\n",
        "\n",
        "classifier_ALL.fit(x_train_All, y_class)"
      ]
    },
    {
      "cell_type": "code",
      "execution_count": null,
      "metadata": {
        "colab": {
          "base_uri": "https://localhost:8080/",
          "height": 574
        },
        "id": "OrDIanmWuy8Z",
        "outputId": "c99822e0-1295-4ed3-c23f-03d891a007fd"
      },
      "outputs": [
        {
          "output_type": "stream",
          "name": "stdout",
          "text": [
            "(306620, 12)\n",
            "<class 'pandas.core.frame.DataFrame'>\n",
            "RangeIndex: 306620 entries, 0 to 306619\n",
            "Data columns (total 12 columns):\n",
            " #   Column      Non-Null Count   Dtype  \n",
            "---  ------      --------------   -----  \n",
            " 0   FID         306620 non-null  int64  \n",
            " 1   pointid     306620 non-null  int64  \n",
            " 2   grid_code   306620 non-null  float64\n",
            " 3   LAT         306620 non-null  float64\n",
            " 4   LONG        306620 non-null  float64\n",
            " 5   Rainfall_e  306620 non-null  float64\n",
            " 6   Landuse_ex  306620 non-null  int64  \n",
            " 7   lineament_  306620 non-null  float64\n",
            " 8   Geology_ex  306620 non-null  int64  \n",
            " 9   Drainage_E  306620 non-null  float64\n",
            " 10  slope_exte  306620 non-null  float64\n",
            " 11  DEM_EXT     306620 non-null  int64  \n",
            "dtypes: float64(7), int64(5)\n",
            "memory usage: 28.1 MB\n"
          ]
        },
        {
          "output_type": "execute_result",
          "data": {
            "text/plain": [
              "   FID  pointid  grid_code        LAT      LONG  Rainfall_e  Landuse_ex  \\\n",
              "0    0   464495        0.0  34.958714 -0.920515  454.028015           8   \n",
              "1    1   464496        0.0  34.958702 -0.919858  454.144989           8   \n",
              "2    2   464497        0.0  34.958691 -0.919202  454.260010           8   \n",
              "3    3   464498        0.0  34.958680 -0.918545  454.372986           8   \n",
              "4    4   464499        0.0  34.958669 -0.917888  454.484009           8   \n",
              "\n",
              "   lineament_  Geology_ex  Drainage_E  slope_exte  DEM_EXT  \n",
              "0         0.0           4    0.792559     4.76364      708  \n",
              "1         0.0           4    0.767772     6.18293      709  \n",
              "2         0.0           4    0.758741     6.25510      709  \n",
              "3         0.0           4    0.792958     6.52699      708  \n",
              "4         0.0           4    0.826668     4.58231      711  "
            ],
            "text/html": [
              "\n",
              "  <div id=\"df-dd5e90d6-bc1a-4079-a895-3dbde66136ad\">\n",
              "    <div class=\"colab-df-container\">\n",
              "      <div>\n",
              "<style scoped>\n",
              "    .dataframe tbody tr th:only-of-type {\n",
              "        vertical-align: middle;\n",
              "    }\n",
              "\n",
              "    .dataframe tbody tr th {\n",
              "        vertical-align: top;\n",
              "    }\n",
              "\n",
              "    .dataframe thead th {\n",
              "        text-align: right;\n",
              "    }\n",
              "</style>\n",
              "<table border=\"1\" class=\"dataframe\">\n",
              "  <thead>\n",
              "    <tr style=\"text-align: right;\">\n",
              "      <th></th>\n",
              "      <th>FID</th>\n",
              "      <th>pointid</th>\n",
              "      <th>grid_code</th>\n",
              "      <th>LAT</th>\n",
              "      <th>LONG</th>\n",
              "      <th>Rainfall_e</th>\n",
              "      <th>Landuse_ex</th>\n",
              "      <th>lineament_</th>\n",
              "      <th>Geology_ex</th>\n",
              "      <th>Drainage_E</th>\n",
              "      <th>slope_exte</th>\n",
              "      <th>DEM_EXT</th>\n",
              "    </tr>\n",
              "  </thead>\n",
              "  <tbody>\n",
              "    <tr>\n",
              "      <th>0</th>\n",
              "      <td>0</td>\n",
              "      <td>464495</td>\n",
              "      <td>0.0</td>\n",
              "      <td>34.958714</td>\n",
              "      <td>-0.920515</td>\n",
              "      <td>454.028015</td>\n",
              "      <td>8</td>\n",
              "      <td>0.0</td>\n",
              "      <td>4</td>\n",
              "      <td>0.792559</td>\n",
              "      <td>4.76364</td>\n",
              "      <td>708</td>\n",
              "    </tr>\n",
              "    <tr>\n",
              "      <th>1</th>\n",
              "      <td>1</td>\n",
              "      <td>464496</td>\n",
              "      <td>0.0</td>\n",
              "      <td>34.958702</td>\n",
              "      <td>-0.919858</td>\n",
              "      <td>454.144989</td>\n",
              "      <td>8</td>\n",
              "      <td>0.0</td>\n",
              "      <td>4</td>\n",
              "      <td>0.767772</td>\n",
              "      <td>6.18293</td>\n",
              "      <td>709</td>\n",
              "    </tr>\n",
              "    <tr>\n",
              "      <th>2</th>\n",
              "      <td>2</td>\n",
              "      <td>464497</td>\n",
              "      <td>0.0</td>\n",
              "      <td>34.958691</td>\n",
              "      <td>-0.919202</td>\n",
              "      <td>454.260010</td>\n",
              "      <td>8</td>\n",
              "      <td>0.0</td>\n",
              "      <td>4</td>\n",
              "      <td>0.758741</td>\n",
              "      <td>6.25510</td>\n",
              "      <td>709</td>\n",
              "    </tr>\n",
              "    <tr>\n",
              "      <th>3</th>\n",
              "      <td>3</td>\n",
              "      <td>464498</td>\n",
              "      <td>0.0</td>\n",
              "      <td>34.958680</td>\n",
              "      <td>-0.918545</td>\n",
              "      <td>454.372986</td>\n",
              "      <td>8</td>\n",
              "      <td>0.0</td>\n",
              "      <td>4</td>\n",
              "      <td>0.792958</td>\n",
              "      <td>6.52699</td>\n",
              "      <td>708</td>\n",
              "    </tr>\n",
              "    <tr>\n",
              "      <th>4</th>\n",
              "      <td>4</td>\n",
              "      <td>464499</td>\n",
              "      <td>0.0</td>\n",
              "      <td>34.958669</td>\n",
              "      <td>-0.917888</td>\n",
              "      <td>454.484009</td>\n",
              "      <td>8</td>\n",
              "      <td>0.0</td>\n",
              "      <td>4</td>\n",
              "      <td>0.826668</td>\n",
              "      <td>4.58231</td>\n",
              "      <td>711</td>\n",
              "    </tr>\n",
              "  </tbody>\n",
              "</table>\n",
              "</div>\n",
              "      <button class=\"colab-df-convert\" onclick=\"convertToInteractive('df-dd5e90d6-bc1a-4079-a895-3dbde66136ad')\"\n",
              "              title=\"Convert this dataframe to an interactive table.\"\n",
              "              style=\"display:none;\">\n",
              "        \n",
              "  <svg xmlns=\"http://www.w3.org/2000/svg\" height=\"24px\"viewBox=\"0 0 24 24\"\n",
              "       width=\"24px\">\n",
              "    <path d=\"M0 0h24v24H0V0z\" fill=\"none\"/>\n",
              "    <path d=\"M18.56 5.44l.94 2.06.94-2.06 2.06-.94-2.06-.94-.94-2.06-.94 2.06-2.06.94zm-11 1L8.5 8.5l.94-2.06 2.06-.94-2.06-.94L8.5 2.5l-.94 2.06-2.06.94zm10 10l.94 2.06.94-2.06 2.06-.94-2.06-.94-.94-2.06-.94 2.06-2.06.94z\"/><path d=\"M17.41 7.96l-1.37-1.37c-.4-.4-.92-.59-1.43-.59-.52 0-1.04.2-1.43.59L10.3 9.45l-7.72 7.72c-.78.78-.78 2.05 0 2.83L4 21.41c.39.39.9.59 1.41.59.51 0 1.02-.2 1.41-.59l7.78-7.78 2.81-2.81c.8-.78.8-2.07 0-2.86zM5.41 20L4 18.59l7.72-7.72 1.47 1.35L5.41 20z\"/>\n",
              "  </svg>\n",
              "      </button>\n",
              "      \n",
              "  <style>\n",
              "    .colab-df-container {\n",
              "      display:flex;\n",
              "      flex-wrap:wrap;\n",
              "      gap: 12px;\n",
              "    }\n",
              "\n",
              "    .colab-df-convert {\n",
              "      background-color: #E8F0FE;\n",
              "      border: none;\n",
              "      border-radius: 50%;\n",
              "      cursor: pointer;\n",
              "      display: none;\n",
              "      fill: #1967D2;\n",
              "      height: 32px;\n",
              "      padding: 0 0 0 0;\n",
              "      width: 32px;\n",
              "    }\n",
              "\n",
              "    .colab-df-convert:hover {\n",
              "      background-color: #E2EBFA;\n",
              "      box-shadow: 0px 1px 2px rgba(60, 64, 67, 0.3), 0px 1px 3px 1px rgba(60, 64, 67, 0.15);\n",
              "      fill: #174EA6;\n",
              "    }\n",
              "\n",
              "    [theme=dark] .colab-df-convert {\n",
              "      background-color: #3B4455;\n",
              "      fill: #D2E3FC;\n",
              "    }\n",
              "\n",
              "    [theme=dark] .colab-df-convert:hover {\n",
              "      background-color: #434B5C;\n",
              "      box-shadow: 0px 1px 3px 1px rgba(0, 0, 0, 0.15);\n",
              "      filter: drop-shadow(0px 1px 2px rgba(0, 0, 0, 0.3));\n",
              "      fill: #FFFFFF;\n",
              "    }\n",
              "  </style>\n",
              "\n",
              "      <script>\n",
              "        const buttonEl =\n",
              "          document.querySelector('#df-dd5e90d6-bc1a-4079-a895-3dbde66136ad button.colab-df-convert');\n",
              "        buttonEl.style.display =\n",
              "          google.colab.kernel.accessAllowed ? 'block' : 'none';\n",
              "\n",
              "        async function convertToInteractive(key) {\n",
              "          const element = document.querySelector('#df-dd5e90d6-bc1a-4079-a895-3dbde66136ad');\n",
              "          const dataTable =\n",
              "            await google.colab.kernel.invokeFunction('convertToInteractive',\n",
              "                                                     [key], {});\n",
              "          if (!dataTable) return;\n",
              "\n",
              "          const docLinkHtml = 'Like what you see? Visit the ' +\n",
              "            '<a target=\"_blank\" href=https://colab.research.google.com/notebooks/data_table.ipynb>data table notebook</a>'\n",
              "            + ' to learn more about interactive tables.';\n",
              "          element.innerHTML = '';\n",
              "          dataTable['output_type'] = 'display_data';\n",
              "          await google.colab.output.renderOutput(dataTable, element);\n",
              "          const docLink = document.createElement('div');\n",
              "          docLink.innerHTML = docLinkHtml;\n",
              "          element.appendChild(docLink);\n",
              "        }\n",
              "      </script>\n",
              "    </div>\n",
              "  </div>\n",
              "  "
            ]
          },
          "metadata": {},
          "execution_count": 39
        }
      ],
      "source": [
        "dataset2 = pd.read_csv('/content/drive/MyDrive/studyareapoints.txt',sep=\";\",decimal=\",\")\n",
        "print(dataset2.shape)\n",
        "dataset2.info()\n",
        "dataset2.head()\n"
      ]
    },
    {
      "cell_type": "code",
      "execution_count": null,
      "metadata": {
        "colab": {
          "base_uri": "https://localhost:8080/",
          "height": 353
        },
        "id": "3ee81NNOrRHq",
        "outputId": "7ada9ee7-3bee-4fb1-8773-6ad6920fb516"
      },
      "outputs": [
        {
          "output_type": "stream",
          "name": "stdout",
          "text": [
            "[[4.54e+02 8.00e+00 0.00e+00 ... 7.93e-01 4.76e+00 7.08e+02]\n",
            " [4.54e+02 8.00e+00 0.00e+00 ... 7.68e-01 6.18e+00 7.09e+02]\n",
            " [4.54e+02 8.00e+00 0.00e+00 ... 7.59e-01 6.26e+00 7.09e+02]\n",
            " ...\n",
            " [4.09e+02 8.00e+00 0.00e+00 ... 4.46e-01 4.53e+00 6.71e+02]\n",
            " [4.09e+02 8.00e+00 0.00e+00 ... 4.30e-01 2.39e+00 6.73e+02]\n",
            " [4.09e+02 8.00e+00 0.00e+00 ... 4.13e-01 8.11e+00 6.71e+02]]\n",
            "(306620, 7)\n"
          ]
        },
        {
          "output_type": "execute_result",
          "data": {
            "text/plain": [
              "         LAT      LONG\n",
              "0  34.958714 -0.920515\n",
              "1  34.958702 -0.919858\n",
              "2  34.958691 -0.919202\n",
              "3  34.958680 -0.918545\n",
              "4  34.958669 -0.917888"
            ],
            "text/html": [
              "\n",
              "  <div id=\"df-e6199c2d-032c-41c9-b2e8-066d3bc3ae3b\">\n",
              "    <div class=\"colab-df-container\">\n",
              "      <div>\n",
              "<style scoped>\n",
              "    .dataframe tbody tr th:only-of-type {\n",
              "        vertical-align: middle;\n",
              "    }\n",
              "\n",
              "    .dataframe tbody tr th {\n",
              "        vertical-align: top;\n",
              "    }\n",
              "\n",
              "    .dataframe thead th {\n",
              "        text-align: right;\n",
              "    }\n",
              "</style>\n",
              "<table border=\"1\" class=\"dataframe\">\n",
              "  <thead>\n",
              "    <tr style=\"text-align: right;\">\n",
              "      <th></th>\n",
              "      <th>LAT</th>\n",
              "      <th>LONG</th>\n",
              "    </tr>\n",
              "  </thead>\n",
              "  <tbody>\n",
              "    <tr>\n",
              "      <th>0</th>\n",
              "      <td>34.958714</td>\n",
              "      <td>-0.920515</td>\n",
              "    </tr>\n",
              "    <tr>\n",
              "      <th>1</th>\n",
              "      <td>34.958702</td>\n",
              "      <td>-0.919858</td>\n",
              "    </tr>\n",
              "    <tr>\n",
              "      <th>2</th>\n",
              "      <td>34.958691</td>\n",
              "      <td>-0.919202</td>\n",
              "    </tr>\n",
              "    <tr>\n",
              "      <th>3</th>\n",
              "      <td>34.958680</td>\n",
              "      <td>-0.918545</td>\n",
              "    </tr>\n",
              "    <tr>\n",
              "      <th>4</th>\n",
              "      <td>34.958669</td>\n",
              "      <td>-0.917888</td>\n",
              "    </tr>\n",
              "  </tbody>\n",
              "</table>\n",
              "</div>\n",
              "      <button class=\"colab-df-convert\" onclick=\"convertToInteractive('df-e6199c2d-032c-41c9-b2e8-066d3bc3ae3b')\"\n",
              "              title=\"Convert this dataframe to an interactive table.\"\n",
              "              style=\"display:none;\">\n",
              "        \n",
              "  <svg xmlns=\"http://www.w3.org/2000/svg\" height=\"24px\"viewBox=\"0 0 24 24\"\n",
              "       width=\"24px\">\n",
              "    <path d=\"M0 0h24v24H0V0z\" fill=\"none\"/>\n",
              "    <path d=\"M18.56 5.44l.94 2.06.94-2.06 2.06-.94-2.06-.94-.94-2.06-.94 2.06-2.06.94zm-11 1L8.5 8.5l.94-2.06 2.06-.94-2.06-.94L8.5 2.5l-.94 2.06-2.06.94zm10 10l.94 2.06.94-2.06 2.06-.94-2.06-.94-.94-2.06-.94 2.06-2.06.94z\"/><path d=\"M17.41 7.96l-1.37-1.37c-.4-.4-.92-.59-1.43-.59-.52 0-1.04.2-1.43.59L10.3 9.45l-7.72 7.72c-.78.78-.78 2.05 0 2.83L4 21.41c.39.39.9.59 1.41.59.51 0 1.02-.2 1.41-.59l7.78-7.78 2.81-2.81c.8-.78.8-2.07 0-2.86zM5.41 20L4 18.59l7.72-7.72 1.47 1.35L5.41 20z\"/>\n",
              "  </svg>\n",
              "      </button>\n",
              "      \n",
              "  <style>\n",
              "    .colab-df-container {\n",
              "      display:flex;\n",
              "      flex-wrap:wrap;\n",
              "      gap: 12px;\n",
              "    }\n",
              "\n",
              "    .colab-df-convert {\n",
              "      background-color: #E8F0FE;\n",
              "      border: none;\n",
              "      border-radius: 50%;\n",
              "      cursor: pointer;\n",
              "      display: none;\n",
              "      fill: #1967D2;\n",
              "      height: 32px;\n",
              "      padding: 0 0 0 0;\n",
              "      width: 32px;\n",
              "    }\n",
              "\n",
              "    .colab-df-convert:hover {\n",
              "      background-color: #E2EBFA;\n",
              "      box-shadow: 0px 1px 2px rgba(60, 64, 67, 0.3), 0px 1px 3px 1px rgba(60, 64, 67, 0.15);\n",
              "      fill: #174EA6;\n",
              "    }\n",
              "\n",
              "    [theme=dark] .colab-df-convert {\n",
              "      background-color: #3B4455;\n",
              "      fill: #D2E3FC;\n",
              "    }\n",
              "\n",
              "    [theme=dark] .colab-df-convert:hover {\n",
              "      background-color: #434B5C;\n",
              "      box-shadow: 0px 1px 3px 1px rgba(0, 0, 0, 0.15);\n",
              "      filter: drop-shadow(0px 1px 2px rgba(0, 0, 0, 0.3));\n",
              "      fill: #FFFFFF;\n",
              "    }\n",
              "  </style>\n",
              "\n",
              "      <script>\n",
              "        const buttonEl =\n",
              "          document.querySelector('#df-e6199c2d-032c-41c9-b2e8-066d3bc3ae3b button.colab-df-convert');\n",
              "        buttonEl.style.display =\n",
              "          google.colab.kernel.accessAllowed ? 'block' : 'none';\n",
              "\n",
              "        async function convertToInteractive(key) {\n",
              "          const element = document.querySelector('#df-e6199c2d-032c-41c9-b2e8-066d3bc3ae3b');\n",
              "          const dataTable =\n",
              "            await google.colab.kernel.invokeFunction('convertToInteractive',\n",
              "                                                     [key], {});\n",
              "          if (!dataTable) return;\n",
              "\n",
              "          const docLinkHtml = 'Like what you see? Visit the ' +\n",
              "            '<a target=\"_blank\" href=https://colab.research.google.com/notebooks/data_table.ipynb>data table notebook</a>'\n",
              "            + ' to learn more about interactive tables.';\n",
              "          element.innerHTML = '';\n",
              "          dataTable['output_type'] = 'display_data';\n",
              "          await google.colab.output.renderOutput(dataTable, element);\n",
              "          const docLink = document.createElement('div');\n",
              "          docLink.innerHTML = docLinkHtml;\n",
              "          element.appendChild(docLink);\n",
              "        }\n",
              "      </script>\n",
              "    </div>\n",
              "  </div>\n",
              "  "
            ]
          },
          "metadata": {},
          "execution_count": 40
        }
      ],
      "source": [
        "XNL = dataset2.iloc[:, -7:].values  \n",
        "Result_RF = dataset2.iloc[:,[-9,-8]]\n",
        "print(XNL)\n",
        "print(XNL.shape)\n",
        "Result_RF.head()\n"
      ]
    },
    {
      "cell_type": "code",
      "execution_count": null,
      "metadata": {
        "colab": {
          "base_uri": "https://localhost:8080/"
        },
        "id": "dE9c5S64rUQv",
        "outputId": "40606c82-8876-4e1d-c195-79debe5e2ccb"
      },
      "outputs": [
        {
          "output_type": "stream",
          "name": "stdout",
          "text": [
            "1\n",
            "(306620,)\n"
          ]
        }
      ],
      "source": [
        "XNL_T = sc_RF_All.transform(XNL) #feature scaling to unlabel data\n",
        "label = classifier_ALL.predict(XNL_T) # pridiction\n",
        "print(label[0])\n",
        "print(label.shape)"
      ]
    },
    {
      "cell_type": "code",
      "execution_count": null,
      "metadata": {
        "colab": {
          "base_uri": "https://localhost:8080/",
          "height": 206
        },
        "id": "-ubXHaKZrUcn",
        "outputId": "4d0f6d78-c864-48a3-8797-e08183e940db"
      },
      "outputs": [
        {
          "output_type": "execute_result",
          "data": {
            "text/plain": [
              "         LAT      LONG  Class\n",
              "0  34.958714 -0.920515      1\n",
              "1  34.958702 -0.919858      1\n",
              "2  34.958691 -0.919202      1\n",
              "3  34.958680 -0.918545      1\n",
              "4  34.958669 -0.917888      1"
            ],
            "text/html": [
              "\n",
              "  <div id=\"df-ce6ab660-ffeb-41b4-9759-196fd3ddff2e\">\n",
              "    <div class=\"colab-df-container\">\n",
              "      <div>\n",
              "<style scoped>\n",
              "    .dataframe tbody tr th:only-of-type {\n",
              "        vertical-align: middle;\n",
              "    }\n",
              "\n",
              "    .dataframe tbody tr th {\n",
              "        vertical-align: top;\n",
              "    }\n",
              "\n",
              "    .dataframe thead th {\n",
              "        text-align: right;\n",
              "    }\n",
              "</style>\n",
              "<table border=\"1\" class=\"dataframe\">\n",
              "  <thead>\n",
              "    <tr style=\"text-align: right;\">\n",
              "      <th></th>\n",
              "      <th>LAT</th>\n",
              "      <th>LONG</th>\n",
              "      <th>Class</th>\n",
              "    </tr>\n",
              "  </thead>\n",
              "  <tbody>\n",
              "    <tr>\n",
              "      <th>0</th>\n",
              "      <td>34.958714</td>\n",
              "      <td>-0.920515</td>\n",
              "      <td>1</td>\n",
              "    </tr>\n",
              "    <tr>\n",
              "      <th>1</th>\n",
              "      <td>34.958702</td>\n",
              "      <td>-0.919858</td>\n",
              "      <td>1</td>\n",
              "    </tr>\n",
              "    <tr>\n",
              "      <th>2</th>\n",
              "      <td>34.958691</td>\n",
              "      <td>-0.919202</td>\n",
              "      <td>1</td>\n",
              "    </tr>\n",
              "    <tr>\n",
              "      <th>3</th>\n",
              "      <td>34.958680</td>\n",
              "      <td>-0.918545</td>\n",
              "      <td>1</td>\n",
              "    </tr>\n",
              "    <tr>\n",
              "      <th>4</th>\n",
              "      <td>34.958669</td>\n",
              "      <td>-0.917888</td>\n",
              "      <td>1</td>\n",
              "    </tr>\n",
              "  </tbody>\n",
              "</table>\n",
              "</div>\n",
              "      <button class=\"colab-df-convert\" onclick=\"convertToInteractive('df-ce6ab660-ffeb-41b4-9759-196fd3ddff2e')\"\n",
              "              title=\"Convert this dataframe to an interactive table.\"\n",
              "              style=\"display:none;\">\n",
              "        \n",
              "  <svg xmlns=\"http://www.w3.org/2000/svg\" height=\"24px\"viewBox=\"0 0 24 24\"\n",
              "       width=\"24px\">\n",
              "    <path d=\"M0 0h24v24H0V0z\" fill=\"none\"/>\n",
              "    <path d=\"M18.56 5.44l.94 2.06.94-2.06 2.06-.94-2.06-.94-.94-2.06-.94 2.06-2.06.94zm-11 1L8.5 8.5l.94-2.06 2.06-.94-2.06-.94L8.5 2.5l-.94 2.06-2.06.94zm10 10l.94 2.06.94-2.06 2.06-.94-2.06-.94-.94-2.06-.94 2.06-2.06.94z\"/><path d=\"M17.41 7.96l-1.37-1.37c-.4-.4-.92-.59-1.43-.59-.52 0-1.04.2-1.43.59L10.3 9.45l-7.72 7.72c-.78.78-.78 2.05 0 2.83L4 21.41c.39.39.9.59 1.41.59.51 0 1.02-.2 1.41-.59l7.78-7.78 2.81-2.81c.8-.78.8-2.07 0-2.86zM5.41 20L4 18.59l7.72-7.72 1.47 1.35L5.41 20z\"/>\n",
              "  </svg>\n",
              "      </button>\n",
              "      \n",
              "  <style>\n",
              "    .colab-df-container {\n",
              "      display:flex;\n",
              "      flex-wrap:wrap;\n",
              "      gap: 12px;\n",
              "    }\n",
              "\n",
              "    .colab-df-convert {\n",
              "      background-color: #E8F0FE;\n",
              "      border: none;\n",
              "      border-radius: 50%;\n",
              "      cursor: pointer;\n",
              "      display: none;\n",
              "      fill: #1967D2;\n",
              "      height: 32px;\n",
              "      padding: 0 0 0 0;\n",
              "      width: 32px;\n",
              "    }\n",
              "\n",
              "    .colab-df-convert:hover {\n",
              "      background-color: #E2EBFA;\n",
              "      box-shadow: 0px 1px 2px rgba(60, 64, 67, 0.3), 0px 1px 3px 1px rgba(60, 64, 67, 0.15);\n",
              "      fill: #174EA6;\n",
              "    }\n",
              "\n",
              "    [theme=dark] .colab-df-convert {\n",
              "      background-color: #3B4455;\n",
              "      fill: #D2E3FC;\n",
              "    }\n",
              "\n",
              "    [theme=dark] .colab-df-convert:hover {\n",
              "      background-color: #434B5C;\n",
              "      box-shadow: 0px 1px 3px 1px rgba(0, 0, 0, 0.15);\n",
              "      filter: drop-shadow(0px 1px 2px rgba(0, 0, 0, 0.3));\n",
              "      fill: #FFFFFF;\n",
              "    }\n",
              "  </style>\n",
              "\n",
              "      <script>\n",
              "        const buttonEl =\n",
              "          document.querySelector('#df-ce6ab660-ffeb-41b4-9759-196fd3ddff2e button.colab-df-convert');\n",
              "        buttonEl.style.display =\n",
              "          google.colab.kernel.accessAllowed ? 'block' : 'none';\n",
              "\n",
              "        async function convertToInteractive(key) {\n",
              "          const element = document.querySelector('#df-ce6ab660-ffeb-41b4-9759-196fd3ddff2e');\n",
              "          const dataTable =\n",
              "            await google.colab.kernel.invokeFunction('convertToInteractive',\n",
              "                                                     [key], {});\n",
              "          if (!dataTable) return;\n",
              "\n",
              "          const docLinkHtml = 'Like what you see? Visit the ' +\n",
              "            '<a target=\"_blank\" href=https://colab.research.google.com/notebooks/data_table.ipynb>data table notebook</a>'\n",
              "            + ' to learn more about interactive tables.';\n",
              "          element.innerHTML = '';\n",
              "          dataTable['output_type'] = 'display_data';\n",
              "          await google.colab.output.renderOutput(dataTable, element);\n",
              "          const docLink = document.createElement('div');\n",
              "          docLink.innerHTML = docLinkHtml;\n",
              "          element.appendChild(docLink);\n",
              "        }\n",
              "      </script>\n",
              "    </div>\n",
              "  </div>\n",
              "  "
            ]
          },
          "metadata": {},
          "execution_count": 42
        }
      ],
      "source": [
        "Result_RF.insert(2, \"Class\", label, True)\n",
        "Result_RF.head()"
      ]
    },
    {
      "cell_type": "code",
      "execution_count": null,
      "metadata": {
        "colab": {
          "base_uri": "https://localhost:8080/",
          "height": 391
        },
        "id": "ZvvCZdbnrtHf",
        "outputId": "3ce89203-7698-460c-e529-6abae16c0d2d"
      },
      "outputs": [
        {
          "output_type": "stream",
          "name": "stdout",
          "text": [
            "2    109027\n",
            "3     94114\n",
            "5     48373\n",
            "1     39482\n",
            "4     15624\n",
            "Name: Class, dtype: int64\n"
          ]
        },
        {
          "output_type": "execute_result",
          "data": {
            "text/plain": [
              "<matplotlib.axes._subplots.AxesSubplot at 0x7f0a66fdc3d0>"
            ]
          },
          "metadata": {},
          "execution_count": 43
        },
        {
          "output_type": "display_data",
          "data": {
            "text/plain": [
              "<Figure size 432x288 with 1 Axes>"
            ],
            "image/png": "[encoded data removed]"
          },
          "metadata": {
            "needs_background": "light"
          }
        }
      ],
      "source": [
        "print(pd.value_counts(Result_RF['Class']))\n",
        "pd.value_counts(Result_RF['Class']).plot.bar()"
      ]
    },
    {
      "cell_type": "code",
      "execution_count": null,
      "metadata": {
        "id": "YZZYy5ZCsGFZ"
      },
      "outputs": [],
      "source": [
        "Result_RF.to_excel(\"Result_RF_Whole.xlsx\")"
      ]
    },
    {
      "cell_type": "markdown",
      "metadata": {
        "id": "chfMho67Mebl"
      },
      "source": [
        "SVM"
      ]
    },
    {
      "cell_type": "code",
      "execution_count": null,
      "metadata": {
        "colab": {
          "base_uri": "https://localhost:8080/"
        },
        "id": "R_7PeDsbh33s",
        "outputId": "0d5e2551-2e82-40d0-f3c9-f5aac26780ce"
      },
      "outputs": [
        {
          "output_type": "execute_result",
          "data": {
            "text/plain": [
              "SVC(C=11, gamma=1, probability=True, random_state=0)"
            ]
          },
          "metadata": {},
          "execution_count": 10
        }
      ],
      "source": [
        "from sklearn.preprocessing import  LabelEncoder\n",
        "from sklearn.model_selection import train_test_split\n",
        "from sklearn.metrics import roc_curve, auc\n",
        "from sklearn.preprocessing import label_binarize\n",
        "from sklearn.multiclass import OneVsRestClassifier\n",
        "from sklearn.metrics import roc_auc_score\n",
        "from sklearn.preprocessing import StandardScaler\n",
        "from sklearn.svm import SVC\n",
        "from sklearn import preprocessing\n",
        "\n",
        "\n",
        "\n",
        "# Learn to predict each class against the other   OneVsRestClassifier(classifier)\n",
        "classifier_SVM = SVC(kernel = 'rbf',gamma=1,C=11,probability=True,random_state=RS )\n",
        "classifier_SVM.fit(x_train, y_train)"
      ]
    },
    {
      "cell_type": "markdown",
      "metadata": {
        "id": "YyscZ68Nm89D"
      },
      "source": [
        ""
      ]
    },
    {
      "cell_type": "code",
      "execution_count": null,
      "metadata": {
        "colab": {
          "base_uri": "https://localhost:8080/"
        },
        "id": "p9-4t_2Tidpc",
        "outputId": "0b609c34-db32-4570-e77d-7e4812f11fee"
      },
      "outputs": [
        {
          "output_type": "stream",
          "name": "stdout",
          "text": [
            "Accuracy: 69.36 %\n",
            "Standard Deviation: 7.51 %\n"
          ]
        }
      ],
      "source": [
        "from sklearn.model_selection import cross_val_score\n",
        "accuracies = cross_val_score(estimator=classifier_SVM, X = x_train , y = y_train, cv = 10)\n",
        "\n",
        "print('Accuracy: {:0.2f} %'.format(accuracies.mean()*100))\n",
        "print('Standard Deviation: {:0.2f} %'.format(accuracies.std()*100))"
      ]
    },
    {
      "cell_type": "code",
      "execution_count": null,
      "metadata": {
        "id": "LnjOkmsGilmL"
      },
      "outputs": [],
      "source": [
        "# Determine the value \n",
        "from sklearn.model_selection import GridSearchCV\n",
        "from sklearn.metrics import classification_report\n",
        "# Set the parameters by cross-validation\n",
        "tuned_parameters = {\"kernel\": [\"rbf\"], \"gamma\": [1e-3, 1e-4,1,3,5,7,9,11], \"C\": [1, 10,20,40,70, 100, 1000]}\n",
        "scores = [\"precision\"]\n",
        "for score in scores:\n",
        "    print(\"# Tuning hyper-parameters for %s\" % score)\n",
        "    print()\n",
        "\n",
        "    clf = GridSearchCV(SVC(), tuned_parameters, scoring=\"%s_macro\" % score)\n",
        "    clf.fit(x_train, y_train)\n",
        "\n",
        "    print(\"Best parameters set found on development set:\")\n",
        "    print()\n",
        "    print(clf.best_params_)\n",
        "    print()\n",
        "    print(\"Grid scores on development set:\")\n",
        "    print()\n",
        "    means = clf.cv_results_[\"mean_test_score\"]\n",
        "    stds = clf.cv_results_[\"std_test_score\"]\n",
        "    for mean, std, params in zip(means, stds, clf.cv_results_[\"params\"]):\n",
        "        print(\"%0.3f (+/-%0.03f) for %r\" % (mean, std * 2, params))\n",
        "    print()\n",
        "\n",
        "    print(\"Detailed classification report:\")\n",
        "    print()\n",
        "    print(\"The model is trained on the full development set.\")\n",
        "    print(\"The scores are computed on the full evaluation set.\")\n",
        "    print()\n",
        "    y_true, y_pred = y_test, clf.predict(x_test)\n",
        "    print(classification_report(y_true, y_pred))\n",
        "    print()"
      ]
    },
    {
      "cell_type": "markdown",
      "metadata": {
        "id": "USPn7SFHjsx0"
      },
      "source": [
        "ROC_Curve"
      ]
    },
    {
      "cell_type": "code",
      "execution_count": null,
      "metadata": {
        "id": "rH1sh52WjeI1"
      },
      "outputs": [],
      "source": [
        "#Calculate the y_score\n",
        "y_score = classifier_SVM.predict_proba(x_test)\n",
        "#Binarize the output\n",
        "y_test_bin = label_binarize(y_test, classes=[1, 2, 3, 4, 5])\n",
        "n_classes = y_test_bin.shape[1]\n",
        "print('number of classes: ',n_classes)\n",
        "\n",
        "fpr_SVM = dict()\n",
        "tpr_SVM = dict()\n",
        "roc_auc_SVM = dict()\n",
        "\n",
        "for i in range(n_classes):\n",
        "  fpr_SVM[i], tpr_SVM[i], _ = roc_curve(y_test_bin[:, i], y_score[:, i])\n",
        "  plt.plot(fpr_SVM[i], tpr_SVM[i], color='darkorange', lw=2)\n",
        "  print('AUC for Class {}: {}'.format(i+1, auc(fpr_SVM[i], tpr_SVM[i])))\n",
        "\n",
        "plt.plot([0, 1], [0, 1], color='navy', lw=2, linestyle='--')\n",
        "plt.xlim([0.0, 1.0])\n",
        "plt.ylim([0.0, 1.05])\n",
        "plt.xlabel('False Positive Rate')\n",
        "plt.ylabel('True Positive Rate')\n",
        "plt.title('Receiver Operating Characteristic Curves')\n",
        "plt.show()"
      ]
    },
    {
      "cell_type": "code",
      "execution_count": null,
      "metadata": {
        "id": "21mem7RokIF8"
      },
      "outputs": [],
      "source": [
        "# Compute micro-average ROC curve and ROC area\n",
        "fpr_SVM[\"micro\"], tpr_SVM[\"micro\"], _ = roc_curve(y_test_bin.ravel(), y_score.ravel())\n",
        "roc_auc_SVM[\"micro\"] = auc(fpr_SVM[\"micro\"], tpr_SVM[\"micro\"])\n",
        "\n",
        "csfont = {'fontname':'Times New Roman'}\n",
        "\n",
        "plt.figure()\n",
        "lw = 3.5\n",
        "plt.plot(\n",
        "    fpr_RF[\"micro\"],\n",
        "    tpr_RF[\"micro\"],\n",
        "    color=\"deeppink\",\n",
        "    lw=lw,\n",
        "    label=\"SVM ROC curve (AUC = %0.3f)\" % roc_auc_SVM[\"micro\"],\n",
        ")\n",
        "plt.plot([0, 1], [0, 1], color=\"navy\", lw=lw, linestyle=\"--\")\n",
        "plt.xlim([0.0, 1.0])\n",
        "plt.ylim([0.0, 1])\n",
        "plt.xlabel(\"False Positive Rate\",**csfont,fontsize=14)\n",
        "plt.ylabel(\"True Positive Rate\",**csfont,fontsize=14)\n",
        "plt.title(\"Receiver operating characteristics \",**csfont,fontsize=15)\n",
        "plt.legend(loc=\"lower right\")\n",
        "plt.grid(axis='y')\n",
        "plt.savefig(\"ROC_RF.jpg\",bbox_inches='tight',dpi=600)\n",
        "plt.show()"
      ]
    },
    {
      "cell_type": "markdown",
      "metadata": {
        "id": "X1pu5Mjnl9qb"
      },
      "source": [
        "Accuracy_Kappa"
      ]
    },
    {
      "cell_type": "code",
      "execution_count": null,
      "metadata": {
        "colab": {
          "base_uri": "https://localhost:8080/"
        },
        "id": "FtUn3QxUmC5T",
        "outputId": "da6172e8-b991-493c-84dc-a4aa3203b4c1"
      },
      "outputs": [
        {
          "output_type": "stream",
          "name": "stdout",
          "text": [
            "(163,)\n",
            "Confusion Matrix: \n",
            "\n",
            "[[15  6  3  2  0]\n",
            " [ 1 52  3  1  1]\n",
            " [ 1  4 30  0  3]\n",
            " [ 0  1  3 14  0]\n",
            " [ 0  0  3  5 15]]\n",
            "\n",
            "overall Accuracy: 77.30 %\n",
            "              precision    recall  f1-score   support\n",
            "\n",
            "           1       0.88      0.58      0.70        26\n",
            "           2       0.83      0.90      0.86        58\n",
            "           3       0.71      0.79      0.75        38\n",
            "           4       0.64      0.78      0.70        18\n",
            "           5       0.79      0.65      0.71        23\n",
            "\n",
            "    accuracy                           0.77       163\n",
            "   macro avg       0.77      0.74      0.74       163\n",
            "weighted avg       0.78      0.77      0.77       163\n",
            "\n",
            "kappa : 0.699\n"
          ]
        }
      ],
      "source": [
        "from sklearn.metrics import confusion_matrix, accuracy_score,classification_report, cohen_kappa_score\n",
        "y_pred = classifier_SVM.predict(x_test)\n",
        "np.set_printoptions(precision=2)\n",
        "print(y_pred.shape)\n",
        "\n",
        "\n",
        "#Calculate accuracy \n",
        "cm = confusion_matrix(y_test, y_pred)\n",
        "cr = classification_report(y_test, y_pred)\n",
        "print('Confusion Matrix: \\n')\n",
        "print(cm)\n",
        "\n",
        "print('\\noverall Accuracy: {:0.2f} %'.format(accuracy_score(y_test, y_pred)*100))  \n",
        "print(cr)\n",
        "\n",
        "k= cohen_kappa_score(y_test, y_pred)\n",
        "print('kappa : %0.3f'%k)"
      ]
    },
    {
      "cell_type": "markdown",
      "metadata": {
        "id": "JOzudddyEG0W"
      },
      "source": [
        "Predict the whole data"
      ]
    },
    {
      "cell_type": "code",
      "source": [
        "dataset1 = pd.read_csv('/content/20_Boreholes.txt',sep=\";\",decimal=\",\")\n",
        "dataset1.info()\n",
        "dataset1.head(5)"
      ],
      "metadata": {
        "colab": {
          "base_uri": "https://localhost:8080/",
          "height": 576
        },
        "outputId": "403dc9af-2535-46ad-f850-200c8987d7c3",
        "id": "XLILPXrsEOZ6"
      },
      "execution_count": null,
      "outputs": [
        {
          "output_type": "stream",
          "name": "stdout",
          "text": [
            "<class 'pandas.core.frame.DataFrame'>\n",
            "RangeIndex: 541 entries, 0 to 540\n",
            "Data columns (total 13 columns):\n",
            " #   Column      Non-Null Count  Dtype  \n",
            "---  ------      --------------  -----  \n",
            " 0   FID         541 non-null    int64  \n",
            " 1   OBJECTID    541 non-null    int64  \n",
            " 2   Level_ST    541 non-null    float64\n",
            " 3   GWL         541 non-null    float64\n",
            " 4   Class       541 non-null    int64  \n",
            " 5   NEAR_DIST   541 non-null    float64\n",
            " 6   Rainfall_e  541 non-null    float64\n",
            " 7   Landuse_ex  541 non-null    int64  \n",
            " 8   lineament_  541 non-null    float64\n",
            " 9   Geology_ex  541 non-null    int64  \n",
            " 10  Drainage_E  541 non-null    float64\n",
            " 11  slope_exte  541 non-null    float64\n",
            " 12  DEM_EXT     541 non-null    int64  \n",
            "dtypes: float64(7), int64(6)\n",
            "memory usage: 55.1 KB\n"
          ]
        },
        {
          "output_type": "execute_result",
          "data": {
            "text/plain": [
              "   FID  OBJECTID  Level_ST         GWL  Class  NEAR_DIST  Rainfall_e  \\\n",
              "0    0         1      43.0   43.000000      5        0.0  415.355011   \n",
              "1    1         2     102.1  102.099998      5        0.0  357.428009   \n",
              "2    2         3      17.9   34.310200      2        0.0  405.656006   \n",
              "3    3         4      15.0   13.004200      2        0.0  404.942993   \n",
              "4    4         5      35.0   34.999901      4        0.0  245.022995   \n",
              "\n",
              "   Landuse_ex  lineament_  Geology_ex  Drainage_E  slope_exte  DEM_EXT  \n",
              "0           8    0.000000           3    0.187792     5.42764      476  \n",
              "1           1    0.556626           8    0.234448     8.58893     1198  \n",
              "2           8    0.000000          24    2.370210    17.49400      458  \n",
              "3           8    0.000000          24    1.043940     9.73678      384  \n",
              "4           7    0.000000          20    1.365040     3.76924     1033  "
            ],
            "text/html": [
              "\n",
              "  <div id=\"df-0857d811-8118-4633-9c6d-c5db1f36cd8b\">\n",
              "    <div class=\"colab-df-container\">\n",
              "      <div>\n",
              "<style scoped>\n",
              "    .dataframe tbody tr th:only-of-type {\n",
              "        vertical-align: middle;\n",
              "    }\n",
              "\n",
              "    .dataframe tbody tr th {\n",
              "        vertical-align: top;\n",
              "    }\n",
              "\n",
              "    .dataframe thead th {\n",
              "        text-align: right;\n",
              "    }\n",
              "</style>\n",
              "<table border=\"1\" class=\"dataframe\">\n",
              "  <thead>\n",
              "    <tr style=\"text-align: right;\">\n",
              "      <th></th>\n",
              "      <th>FID</th>\n",
              "      <th>OBJECTID</th>\n",
              "      <th>Level_ST</th>\n",
              "      <th>GWL</th>\n",
              "      <th>Class</th>\n",
              "      <th>NEAR_DIST</th>\n",
              "      <th>Rainfall_e</th>\n",
              "      <th>Landuse_ex</th>\n",
              "      <th>lineament_</th>\n",
              "      <th>Geology_ex</th>\n",
              "      <th>Drainage_E</th>\n",
              "      <th>slope_exte</th>\n",
              "      <th>DEM_EXT</th>\n",
              "    </tr>\n",
              "  </thead>\n",
              "  <tbody>\n",
              "    <tr>\n",
              "      <th>0</th>\n",
              "      <td>0</td>\n",
              "      <td>1</td>\n",
              "      <td>43.0</td>\n",
              "      <td>43.000000</td>\n",
              "      <td>5</td>\n",
              "      <td>0.0</td>\n",
              "      <td>415.355011</td>\n",
              "      <td>8</td>\n",
              "      <td>0.000000</td>\n",
              "      <td>3</td>\n",
              "      <td>0.187792</td>\n",
              "      <td>5.42764</td>\n",
              "      <td>476</td>\n",
              "    </tr>\n",
              "    <tr>\n",
              "      <th>1</th>\n",
              "      <td>1</td>\n",
              "      <td>2</td>\n",
              "      <td>102.1</td>\n",
              "      <td>102.099998</td>\n",
              "      <td>5</td>\n",
              "      <td>0.0</td>\n",
              "      <td>357.428009</td>\n",
              "      <td>1</td>\n",
              "      <td>0.556626</td>\n",
              "      <td>8</td>\n",
              "      <td>0.234448</td>\n",
              "      <td>8.58893</td>\n",
              "      <td>1198</td>\n",
              "    </tr>\n",
              "    <tr>\n",
              "      <th>2</th>\n",
              "      <td>2</td>\n",
              "      <td>3</td>\n",
              "      <td>17.9</td>\n",
              "      <td>34.310200</td>\n",
              "      <td>2</td>\n",
              "      <td>0.0</td>\n",
              "      <td>405.656006</td>\n",
              "      <td>8</td>\n",
              "      <td>0.000000</td>\n",
              "      <td>24</td>\n",
              "      <td>2.370210</td>\n",
              "      <td>17.49400</td>\n",
              "      <td>458</td>\n",
              "    </tr>\n",
              "    <tr>\n",
              "      <th>3</th>\n",
              "      <td>3</td>\n",
              "      <td>4</td>\n",
              "      <td>15.0</td>\n",
              "      <td>13.004200</td>\n",
              "      <td>2</td>\n",
              "      <td>0.0</td>\n",
              "      <td>404.942993</td>\n",
              "      <td>8</td>\n",
              "      <td>0.000000</td>\n",
              "      <td>24</td>\n",
              "      <td>1.043940</td>\n",
              "      <td>9.73678</td>\n",
              "      <td>384</td>\n",
              "    </tr>\n",
              "    <tr>\n",
              "      <th>4</th>\n",
              "      <td>4</td>\n",
              "      <td>5</td>\n",
              "      <td>35.0</td>\n",
              "      <td>34.999901</td>\n",
              "      <td>4</td>\n",
              "      <td>0.0</td>\n",
              "      <td>245.022995</td>\n",
              "      <td>7</td>\n",
              "      <td>0.000000</td>\n",
              "      <td>20</td>\n",
              "      <td>1.365040</td>\n",
              "      <td>3.76924</td>\n",
              "      <td>1033</td>\n",
              "    </tr>\n",
              "  </tbody>\n",
              "</table>\n",
              "</div>\n",
              "      <button class=\"colab-df-convert\" onclick=\"convertToInteractive('df-0857d811-8118-4633-9c6d-c5db1f36cd8b')\"\n",
              "              title=\"Convert this dataframe to an interactive table.\"\n",
              "              style=\"display:none;\">\n",
              "        \n",
              "  <svg xmlns=\"http://www.w3.org/2000/svg\" height=\"24px\"viewBox=\"0 0 24 24\"\n",
              "       width=\"24px\">\n",
              "    <path d=\"M0 0h24v24H0V0z\" fill=\"none\"/>\n",
              "    <path d=\"M18.56 5.44l.94 2.06.94-2.06 2.06-.94-2.06-.94-.94-2.06-.94 2.06-2.06.94zm-11 1L8.5 8.5l.94-2.06 2.06-.94-2.06-.94L8.5 2.5l-.94 2.06-2.06.94zm10 10l.94 2.06.94-2.06 2.06-.94-2.06-.94-.94-2.06-.94 2.06-2.06.94z\"/><path d=\"M17.41 7.96l-1.37-1.37c-.4-.4-.92-.59-1.43-.59-.52 0-1.04.2-1.43.59L10.3 9.45l-7.72 7.72c-.78.78-.78 2.05 0 2.83L4 21.41c.39.39.9.59 1.41.59.51 0 1.02-.2 1.41-.59l7.78-7.78 2.81-2.81c.8-.78.8-2.07 0-2.86zM5.41 20L4 18.59l7.72-7.72 1.47 1.35L5.41 20z\"/>\n",
              "  </svg>\n",
              "      </button>\n",
              "      \n",
              "  <style>\n",
              "    .colab-df-container {\n",
              "      display:flex;\n",
              "      flex-wrap:wrap;\n",
              "      gap: 12px;\n",
              "    }\n",
              "\n",
              "    .colab-df-convert {\n",
              "      background-color: #E8F0FE;\n",
              "      border: none;\n",
              "      border-radius: 50%;\n",
              "      cursor: pointer;\n",
              "      display: none;\n",
              "      fill: #1967D2;\n",
              "      height: 32px;\n",
              "      padding: 0 0 0 0;\n",
              "      width: 32px;\n",
              "    }\n",
              "\n",
              "    .colab-df-convert:hover {\n",
              "      background-color: #E2EBFA;\n",
              "      box-shadow: 0px 1px 2px rgba(60, 64, 67, 0.3), 0px 1px 3px 1px rgba(60, 64, 67, 0.15);\n",
              "      fill: #174EA6;\n",
              "    }\n",
              "\n",
              "    [theme=dark] .colab-df-convert {\n",
              "      background-color: #3B4455;\n",
              "      fill: #D2E3FC;\n",
              "    }\n",
              "\n",
              "    [theme=dark] .colab-df-convert:hover {\n",
              "      background-color: #434B5C;\n",
              "      box-shadow: 0px 1px 3px 1px rgba(0, 0, 0, 0.15);\n",
              "      filter: drop-shadow(0px 1px 2px rgba(0, 0, 0, 0.3));\n",
              "      fill: #FFFFFF;\n",
              "    }\n",
              "  </style>\n",
              "\n",
              "      <script>\n",
              "        const buttonEl =\n",
              "          document.querySelector('#df-0857d811-8118-4633-9c6d-c5db1f36cd8b button.colab-df-convert');\n",
              "        buttonEl.style.display =\n",
              "          google.colab.kernel.accessAllowed ? 'block' : 'none';\n",
              "\n",
              "        async function convertToInteractive(key) {\n",
              "          const element = document.querySelector('#df-0857d811-8118-4633-9c6d-c5db1f36cd8b');\n",
              "          const dataTable =\n",
              "            await google.colab.kernel.invokeFunction('convertToInteractive',\n",
              "                                                     [key], {});\n",
              "          if (!dataTable) return;\n",
              "\n",
              "          const docLinkHtml = 'Like what you see? Visit the ' +\n",
              "            '<a target=\"_blank\" href=https://colab.research.google.com/notebooks/data_table.ipynb>data table notebook</a>'\n",
              "            + ' to learn more about interactive tables.';\n",
              "          element.innerHTML = '';\n",
              "          dataTable['output_type'] = 'display_data';\n",
              "          await google.colab.output.renderOutput(dataTable, element);\n",
              "          const docLink = document.createElement('div');\n",
              "          docLink.innerHTML = docLinkHtml;\n",
              "          element.appendChild(docLink);\n",
              "        }\n",
              "      </script>\n",
              "    </div>\n",
              "  </div>\n",
              "  "
            ]
          },
          "metadata": {},
          "execution_count": 15
        }
      ]
    },
    {
      "cell_type": "code",
      "execution_count": null,
      "metadata": {
        "colab": {
          "base_uri": "https://localhost:8080/"
        },
        "outputId": "5ee80207-0ea7-4ebd-e258-43f79ef6d4d6",
        "id": "F_s0fYvmEwiu"
      },
      "outputs": [
        {
          "output_type": "execute_result",
          "data": {
            "text/plain": [
              "SVC(C=11, gamma=1, probability=True, random_state=0)"
            ]
          },
          "metadata": {},
          "execution_count": 16
        }
      ],
      "source": [
        "#Train the whole data \n",
        "x = dataset1.iloc[:, -7:].values  # [-2,-4]\n",
        "y_class=dataset1.iloc[:, -9].values\n",
        "\n",
        "\n",
        "sc_RF_All = StandardScaler()\n",
        "x_train_All = sc_RF_All.fit_transform(x)\n",
        "\n",
        "\n",
        "classifier_ALL = SVC(kernel = 'rbf',gamma=1,C=11,probability=True,random_state=RS)\n",
        "\n",
        "classifier_ALL.fit(x_train_All, y_class)"
      ]
    },
    {
      "cell_type": "code",
      "execution_count": null,
      "metadata": {
        "colab": {
          "base_uri": "https://localhost:8080/",
          "height": 576
        },
        "outputId": "69fba694-18f6-49d2-bb5d-2a8fbd4d0485",
        "id": "ifqde39QHhNV"
      },
      "outputs": [
        {
          "output_type": "stream",
          "name": "stdout",
          "text": [
            "(306620, 12)\n",
            "<class 'pandas.core.frame.DataFrame'>\n",
            "RangeIndex: 306620 entries, 0 to 306619\n",
            "Data columns (total 12 columns):\n",
            " #   Column      Non-Null Count   Dtype  \n",
            "---  ------      --------------   -----  \n",
            " 0   FID         306620 non-null  int64  \n",
            " 1   pointid     306620 non-null  int64  \n",
            " 2   grid_code   306620 non-null  float64\n",
            " 3   LAT         306620 non-null  float64\n",
            " 4   LONG        306620 non-null  float64\n",
            " 5   Rainfall_e  306620 non-null  float64\n",
            " 6   Landuse_ex  306620 non-null  int64  \n",
            " 7   lineament_  306620 non-null  float64\n",
            " 8   Geology_ex  306620 non-null  int64  \n",
            " 9   Drainage_E  306620 non-null  float64\n",
            " 10  slope_exte  306620 non-null  float64\n",
            " 11  DEM_EXT     306620 non-null  int64  \n",
            "dtypes: float64(7), int64(5)\n",
            "memory usage: 28.1 MB\n"
          ]
        },
        {
          "output_type": "execute_result",
          "data": {
            "text/plain": [
              "   FID  pointid  grid_code        LAT      LONG  Rainfall_e  Landuse_ex  \\\n",
              "0    0   464495        0.0  34.958714 -0.920515  454.028015           8   \n",
              "1    1   464496        0.0  34.958702 -0.919858  454.144989           8   \n",
              "2    2   464497        0.0  34.958691 -0.919202  454.260010           8   \n",
              "3    3   464498        0.0  34.958680 -0.918545  454.372986           8   \n",
              "4    4   464499        0.0  34.958669 -0.917888  454.484009           8   \n",
              "\n",
              "   lineament_  Geology_ex  Drainage_E  slope_exte  DEM_EXT  \n",
              "0         0.0           4    0.792559     4.76364      708  \n",
              "1         0.0           4    0.767772     6.18293      709  \n",
              "2         0.0           4    0.758741     6.25510      709  \n",
              "3         0.0           4    0.792958     6.52699      708  \n",
              "4         0.0           4    0.826668     4.58231      711  "
            ],
            "text/html": [
              "\n",
              "  <div id=\"df-22eda4e1-6763-4ed7-9979-751c91d89725\">\n",
              "    <div class=\"colab-df-container\">\n",
              "      <div>\n",
              "<style scoped>\n",
              "    .dataframe tbody tr th:only-of-type {\n",
              "        vertical-align: middle;\n",
              "    }\n",
              "\n",
              "    .dataframe tbody tr th {\n",
              "        vertical-align: top;\n",
              "    }\n",
              "\n",
              "    .dataframe thead th {\n",
              "        text-align: right;\n",
              "    }\n",
              "</style>\n",
              "<table border=\"1\" class=\"dataframe\">\n",
              "  <thead>\n",
              "    <tr style=\"text-align: right;\">\n",
              "      <th></th>\n",
              "      <th>FID</th>\n",
              "      <th>pointid</th>\n",
              "      <th>grid_code</th>\n",
              "      <th>LAT</th>\n",
              "      <th>LONG</th>\n",
              "      <th>Rainfall_e</th>\n",
              "      <th>Landuse_ex</th>\n",
              "      <th>lineament_</th>\n",
              "      <th>Geology_ex</th>\n",
              "      <th>Drainage_E</th>\n",
              "      <th>slope_exte</th>\n",
              "      <th>DEM_EXT</th>\n",
              "    </tr>\n",
              "  </thead>\n",
              "  <tbody>\n",
              "    <tr>\n",
              "      <th>0</th>\n",
              "      <td>0</td>\n",
              "      <td>464495</td>\n",
              "      <td>0.0</td>\n",
              "      <td>34.958714</td>\n",
              "      <td>-0.920515</td>\n",
              "      <td>454.028015</td>\n",
              "      <td>8</td>\n",
              "      <td>0.0</td>\n",
              "      <td>4</td>\n",
              "      <td>0.792559</td>\n",
              "      <td>4.76364</td>\n",
              "      <td>708</td>\n",
              "    </tr>\n",
              "    <tr>\n",
              "      <th>1</th>\n",
              "      <td>1</td>\n",
              "      <td>464496</td>\n",
              "      <td>0.0</td>\n",
              "      <td>34.958702</td>\n",
              "      <td>-0.919858</td>\n",
              "      <td>454.144989</td>\n",
              "      <td>8</td>\n",
              "      <td>0.0</td>\n",
              "      <td>4</td>\n",
              "      <td>0.767772</td>\n",
              "      <td>6.18293</td>\n",
              "      <td>709</td>\n",
              "    </tr>\n",
              "    <tr>\n",
              "      <th>2</th>\n",
              "      <td>2</td>\n",
              "      <td>464497</td>\n",
              "      <td>0.0</td>\n",
              "      <td>34.958691</td>\n",
              "      <td>-0.919202</td>\n",
              "      <td>454.260010</td>\n",
              "      <td>8</td>\n",
              "      <td>0.0</td>\n",
              "      <td>4</td>\n",
              "      <td>0.758741</td>\n",
              "      <td>6.25510</td>\n",
              "      <td>709</td>\n",
              "    </tr>\n",
              "    <tr>\n",
              "      <th>3</th>\n",
              "      <td>3</td>\n",
              "      <td>464498</td>\n",
              "      <td>0.0</td>\n",
              "      <td>34.958680</td>\n",
              "      <td>-0.918545</td>\n",
              "      <td>454.372986</td>\n",
              "      <td>8</td>\n",
              "      <td>0.0</td>\n",
              "      <td>4</td>\n",
              "      <td>0.792958</td>\n",
              "      <td>6.52699</td>\n",
              "      <td>708</td>\n",
              "    </tr>\n",
              "    <tr>\n",
              "      <th>4</th>\n",
              "      <td>4</td>\n",
              "      <td>464499</td>\n",
              "      <td>0.0</td>\n",
              "      <td>34.958669</td>\n",
              "      <td>-0.917888</td>\n",
              "      <td>454.484009</td>\n",
              "      <td>8</td>\n",
              "      <td>0.0</td>\n",
              "      <td>4</td>\n",
              "      <td>0.826668</td>\n",
              "      <td>4.58231</td>\n",
              "      <td>711</td>\n",
              "    </tr>\n",
              "  </tbody>\n",
              "</table>\n",
              "</div>\n",
              "      <button class=\"colab-df-convert\" onclick=\"convertToInteractive('df-22eda4e1-6763-4ed7-9979-751c91d89725')\"\n",
              "              title=\"Convert this dataframe to an interactive table.\"\n",
              "              style=\"display:none;\">\n",
              "        \n",
              "  <svg xmlns=\"http://www.w3.org/2000/svg\" height=\"24px\"viewBox=\"0 0 24 24\"\n",
              "       width=\"24px\">\n",
              "    <path d=\"M0 0h24v24H0V0z\" fill=\"none\"/>\n",
              "    <path d=\"M18.56 5.44l.94 2.06.94-2.06 2.06-.94-2.06-.94-.94-2.06-.94 2.06-2.06.94zm-11 1L8.5 8.5l.94-2.06 2.06-.94-2.06-.94L8.5 2.5l-.94 2.06-2.06.94zm10 10l.94 2.06.94-2.06 2.06-.94-2.06-.94-.94-2.06-.94 2.06-2.06.94z\"/><path d=\"M17.41 7.96l-1.37-1.37c-.4-.4-.92-.59-1.43-.59-.52 0-1.04.2-1.43.59L10.3 9.45l-7.72 7.72c-.78.78-.78 2.05 0 2.83L4 21.41c.39.39.9.59 1.41.59.51 0 1.02-.2 1.41-.59l7.78-7.78 2.81-2.81c.8-.78.8-2.07 0-2.86zM5.41 20L4 18.59l7.72-7.72 1.47 1.35L5.41 20z\"/>\n",
              "  </svg>\n",
              "      </button>\n",
              "      \n",
              "  <style>\n",
              "    .colab-df-container {\n",
              "      display:flex;\n",
              "      flex-wrap:wrap;\n",
              "      gap: 12px;\n",
              "    }\n",
              "\n",
              "    .colab-df-convert {\n",
              "      background-color: #E8F0FE;\n",
              "      border: none;\n",
              "      border-radius: 50%;\n",
              "      cursor: pointer;\n",
              "      display: none;\n",
              "      fill: #1967D2;\n",
              "      height: 32px;\n",
              "      padding: 0 0 0 0;\n",
              "      width: 32px;\n",
              "    }\n",
              "\n",
              "    .colab-df-convert:hover {\n",
              "      background-color: #E2EBFA;\n",
              "      box-shadow: 0px 1px 2px rgba(60, 64, 67, 0.3), 0px 1px 3px 1px rgba(60, 64, 67, 0.15);\n",
              "      fill: #174EA6;\n",
              "    }\n",
              "\n",
              "    [theme=dark] .colab-df-convert {\n",
              "      background-color: #3B4455;\n",
              "      fill: #D2E3FC;\n",
              "    }\n",
              "\n",
              "    [theme=dark] .colab-df-convert:hover {\n",
              "      background-color: #434B5C;\n",
              "      box-shadow: 0px 1px 3px 1px rgba(0, 0, 0, 0.15);\n",
              "      filter: drop-shadow(0px 1px 2px rgba(0, 0, 0, 0.3));\n",
              "      fill: #FFFFFF;\n",
              "    }\n",
              "  </style>\n",
              "\n",
              "      <script>\n",
              "        const buttonEl =\n",
              "          document.querySelector('#df-22eda4e1-6763-4ed7-9979-751c91d89725 button.colab-df-convert');\n",
              "        buttonEl.style.display =\n",
              "          google.colab.kernel.accessAllowed ? 'block' : 'none';\n",
              "\n",
              "        async function convertToInteractive(key) {\n",
              "          const element = document.querySelector('#df-22eda4e1-6763-4ed7-9979-751c91d89725');\n",
              "          const dataTable =\n",
              "            await google.colab.kernel.invokeFunction('convertToInteractive',\n",
              "                                                     [key], {});\n",
              "          if (!dataTable) return;\n",
              "\n",
              "          const docLinkHtml = 'Like what you see? Visit the ' +\n",
              "            '<a target=\"_blank\" href=https://colab.research.google.com/notebooks/data_table.ipynb>data table notebook</a>'\n",
              "            + ' to learn more about interactive tables.';\n",
              "          element.innerHTML = '';\n",
              "          dataTable['output_type'] = 'display_data';\n",
              "          await google.colab.output.renderOutput(dataTable, element);\n",
              "          const docLink = document.createElement('div');\n",
              "          docLink.innerHTML = docLinkHtml;\n",
              "          element.appendChild(docLink);\n",
              "        }\n",
              "      </script>\n",
              "    </div>\n",
              "  </div>\n",
              "  "
            ]
          },
          "metadata": {},
          "execution_count": 19
        }
      ],
      "source": [
        "dataset2 = pd.read_csv('/content/drive/MyDrive/studyareapoints.txt',sep=\";\",decimal=\",\")\n",
        "print(dataset2.shape)\n",
        "dataset2.info()\n",
        "dataset2.head()\n"
      ]
    },
    {
      "cell_type": "code",
      "execution_count": null,
      "metadata": {
        "colab": {
          "base_uri": "https://localhost:8080/",
          "height": 354
        },
        "outputId": "f002f02b-9b79-4502-da0b-97ef20859fbd",
        "id": "zrY_VKMwGKhQ"
      },
      "outputs": [
        {
          "output_type": "stream",
          "name": "stdout",
          "text": [
            "[[4.54e+02 8.00e+00 0.00e+00 ... 7.93e-01 4.76e+00 7.08e+02]\n",
            " [4.54e+02 8.00e+00 0.00e+00 ... 7.68e-01 6.18e+00 7.09e+02]\n",
            " [4.54e+02 8.00e+00 0.00e+00 ... 7.59e-01 6.26e+00 7.09e+02]\n",
            " ...\n",
            " [4.09e+02 8.00e+00 0.00e+00 ... 4.46e-01 4.53e+00 6.71e+02]\n",
            " [4.09e+02 8.00e+00 0.00e+00 ... 4.30e-01 2.39e+00 6.73e+02]\n",
            " [4.09e+02 8.00e+00 0.00e+00 ... 4.13e-01 8.11e+00 6.71e+02]]\n",
            "(306620, 7)\n"
          ]
        },
        {
          "output_type": "execute_result",
          "data": {
            "text/plain": [
              "         LAT      LONG\n",
              "0  34.958714 -0.920515\n",
              "1  34.958702 -0.919858\n",
              "2  34.958691 -0.919202\n",
              "3  34.958680 -0.918545\n",
              "4  34.958669 -0.917888"
            ],
            "text/html": [
              "\n",
              "  <div id=\"df-6240ca7d-6d25-4cfd-929e-292a3555db7f\">\n",
              "    <div class=\"colab-df-container\">\n",
              "      <div>\n",
              "<style scoped>\n",
              "    .dataframe tbody tr th:only-of-type {\n",
              "        vertical-align: middle;\n",
              "    }\n",
              "\n",
              "    .dataframe tbody tr th {\n",
              "        vertical-align: top;\n",
              "    }\n",
              "\n",
              "    .dataframe thead th {\n",
              "        text-align: right;\n",
              "    }\n",
              "</style>\n",
              "<table border=\"1\" class=\"dataframe\">\n",
              "  <thead>\n",
              "    <tr style=\"text-align: right;\">\n",
              "      <th></th>\n",
              "      <th>LAT</th>\n",
              "      <th>LONG</th>\n",
              "    </tr>\n",
              "  </thead>\n",
              "  <tbody>\n",
              "    <tr>\n",
              "      <th>0</th>\n",
              "      <td>34.958714</td>\n",
              "      <td>-0.920515</td>\n",
              "    </tr>\n",
              "    <tr>\n",
              "      <th>1</th>\n",
              "      <td>34.958702</td>\n",
              "      <td>-0.919858</td>\n",
              "    </tr>\n",
              "    <tr>\n",
              "      <th>2</th>\n",
              "      <td>34.958691</td>\n",
              "      <td>-0.919202</td>\n",
              "    </tr>\n",
              "    <tr>\n",
              "      <th>3</th>\n",
              "      <td>34.958680</td>\n",
              "      <td>-0.918545</td>\n",
              "    </tr>\n",
              "    <tr>\n",
              "      <th>4</th>\n",
              "      <td>34.958669</td>\n",
              "      <td>-0.917888</td>\n",
              "    </tr>\n",
              "  </tbody>\n",
              "</table>\n",
              "</div>\n",
              "      <button class=\"colab-df-convert\" onclick=\"convertToInteractive('df-6240ca7d-6d25-4cfd-929e-292a3555db7f')\"\n",
              "              title=\"Convert this dataframe to an interactive table.\"\n",
              "              style=\"display:none;\">\n",
              "        \n",
              "  <svg xmlns=\"http://www.w3.org/2000/svg\" height=\"24px\"viewBox=\"0 0 24 24\"\n",
              "       width=\"24px\">\n",
              "    <path d=\"M0 0h24v24H0V0z\" fill=\"none\"/>\n",
              "    <path d=\"M18.56 5.44l.94 2.06.94-2.06 2.06-.94-2.06-.94-.94-2.06-.94 2.06-2.06.94zm-11 1L8.5 8.5l.94-2.06 2.06-.94-2.06-.94L8.5 2.5l-.94 2.06-2.06.94zm10 10l.94 2.06.94-2.06 2.06-.94-2.06-.94-.94-2.06-.94 2.06-2.06.94z\"/><path d=\"M17.41 7.96l-1.37-1.37c-.4-.4-.92-.59-1.43-.59-.52 0-1.04.2-1.43.59L10.3 9.45l-7.72 7.72c-.78.78-.78 2.05 0 2.83L4 21.41c.39.39.9.59 1.41.59.51 0 1.02-.2 1.41-.59l7.78-7.78 2.81-2.81c.8-.78.8-2.07 0-2.86zM5.41 20L4 18.59l7.72-7.72 1.47 1.35L5.41 20z\"/>\n",
              "  </svg>\n",
              "      </button>\n",
              "      \n",
              "  <style>\n",
              "    .colab-df-container {\n",
              "      display:flex;\n",
              "      flex-wrap:wrap;\n",
              "      gap: 12px;\n",
              "    }\n",
              "\n",
              "    .colab-df-convert {\n",
              "      background-color: #E8F0FE;\n",
              "      border: none;\n",
              "      border-radius: 50%;\n",
              "      cursor: pointer;\n",
              "      display: none;\n",
              "      fill: #1967D2;\n",
              "      height: 32px;\n",
              "      padding: 0 0 0 0;\n",
              "      width: 32px;\n",
              "    }\n",
              "\n",
              "    .colab-df-convert:hover {\n",
              "      background-color: #E2EBFA;\n",
              "      box-shadow: 0px 1px 2px rgba(60, 64, 67, 0.3), 0px 1px 3px 1px rgba(60, 64, 67, 0.15);\n",
              "      fill: #174EA6;\n",
              "    }\n",
              "\n",
              "    [theme=dark] .colab-df-convert {\n",
              "      background-color: #3B4455;\n",
              "      fill: #D2E3FC;\n",
              "    }\n",
              "\n",
              "    [theme=dark] .colab-df-convert:hover {\n",
              "      background-color: #434B5C;\n",
              "      box-shadow: 0px 1px 3px 1px rgba(0, 0, 0, 0.15);\n",
              "      filter: drop-shadow(0px 1px 2px rgba(0, 0, 0, 0.3));\n",
              "      fill: #FFFFFF;\n",
              "    }\n",
              "  </style>\n",
              "\n",
              "      <script>\n",
              "        const buttonEl =\n",
              "          document.querySelector('#df-6240ca7d-6d25-4cfd-929e-292a3555db7f button.colab-df-convert');\n",
              "        buttonEl.style.display =\n",
              "          google.colab.kernel.accessAllowed ? 'block' : 'none';\n",
              "\n",
              "        async function convertToInteractive(key) {\n",
              "          const element = document.querySelector('#df-6240ca7d-6d25-4cfd-929e-292a3555db7f');\n",
              "          const dataTable =\n",
              "            await google.colab.kernel.invokeFunction('convertToInteractive',\n",
              "                                                     [key], {});\n",
              "          if (!dataTable) return;\n",
              "\n",
              "          const docLinkHtml = 'Like what you see? Visit the ' +\n",
              "            '<a target=\"_blank\" href=https://colab.research.google.com/notebooks/data_table.ipynb>data table notebook</a>'\n",
              "            + ' to learn more about interactive tables.';\n",
              "          element.innerHTML = '';\n",
              "          dataTable['output_type'] = 'display_data';\n",
              "          await google.colab.output.renderOutput(dataTable, element);\n",
              "          const docLink = document.createElement('div');\n",
              "          docLink.innerHTML = docLinkHtml;\n",
              "          element.appendChild(docLink);\n",
              "        }\n",
              "      </script>\n",
              "    </div>\n",
              "  </div>\n",
              "  "
            ]
          },
          "metadata": {},
          "execution_count": 20
        }
      ],
      "source": [
        "XNL = dataset2.iloc[:, -7:].values  \n",
        "Result_SVM = dataset2.iloc[:,[-9,-8]]\n",
        "print(XNL)\n",
        "print(XNL.shape)\n",
        "Result_SVM.head()\n"
      ]
    },
    {
      "cell_type": "code",
      "execution_count": null,
      "metadata": {
        "colab": {
          "base_uri": "https://localhost:8080/"
        },
        "outputId": "7cc88b02-8300-4c26-9fce-23d076f106ac",
        "id": "dFF0EE58GKhS"
      },
      "outputs": [
        {
          "output_type": "stream",
          "name": "stdout",
          "text": [
            "1\n",
            "(306620,)\n"
          ]
        }
      ],
      "source": [
        "XNL_T = sc_RF_All.transform(XNL) #feature scaling to unlabel data\n",
        "label = classifier_ALL.predict(XNL_T) # pridiction\n",
        "print(label[0])\n",
        "print(label.shape)"
      ]
    },
    {
      "cell_type": "code",
      "execution_count": null,
      "metadata": {
        "colab": {
          "base_uri": "https://localhost:8080/",
          "height": 206
        },
        "outputId": "c9ee3063-f653-43e8-a9c8-331ef259a72b",
        "id": "Rg5Ojs3ZGKhS"
      },
      "outputs": [
        {
          "output_type": "execute_result",
          "data": {
            "text/plain": [
              "         LAT      LONG  Class\n",
              "0  34.958714 -0.920515      1\n",
              "1  34.958702 -0.919858      2\n",
              "2  34.958691 -0.919202      2\n",
              "3  34.958680 -0.918545      2\n",
              "4  34.958669 -0.917888      1"
            ],
            "text/html": [
              "\n",
              "  <div id=\"df-bc6aa872-fc78-4e39-ab0b-83ee4fb6a419\">\n",
              "    <div class=\"colab-df-container\">\n",
              "      <div>\n",
              "<style scoped>\n",
              "    .dataframe tbody tr th:only-of-type {\n",
              "        vertical-align: middle;\n",
              "    }\n",
              "\n",
              "    .dataframe tbody tr th {\n",
              "        vertical-align: top;\n",
              "    }\n",
              "\n",
              "    .dataframe thead th {\n",
              "        text-align: right;\n",
              "    }\n",
              "</style>\n",
              "<table border=\"1\" class=\"dataframe\">\n",
              "  <thead>\n",
              "    <tr style=\"text-align: right;\">\n",
              "      <th></th>\n",
              "      <th>LAT</th>\n",
              "      <th>LONG</th>\n",
              "      <th>Class</th>\n",
              "    </tr>\n",
              "  </thead>\n",
              "  <tbody>\n",
              "    <tr>\n",
              "      <th>0</th>\n",
              "      <td>34.958714</td>\n",
              "      <td>-0.920515</td>\n",
              "      <td>1</td>\n",
              "    </tr>\n",
              "    <tr>\n",
              "      <th>1</th>\n",
              "      <td>34.958702</td>\n",
              "      <td>-0.919858</td>\n",
              "      <td>2</td>\n",
              "    </tr>\n",
              "    <tr>\n",
              "      <th>2</th>\n",
              "      <td>34.958691</td>\n",
              "      <td>-0.919202</td>\n",
              "      <td>2</td>\n",
              "    </tr>\n",
              "    <tr>\n",
              "      <th>3</th>\n",
              "      <td>34.958680</td>\n",
              "      <td>-0.918545</td>\n",
              "      <td>2</td>\n",
              "    </tr>\n",
              "    <tr>\n",
              "      <th>4</th>\n",
              "      <td>34.958669</td>\n",
              "      <td>-0.917888</td>\n",
              "      <td>1</td>\n",
              "    </tr>\n",
              "  </tbody>\n",
              "</table>\n",
              "</div>\n",
              "      <button class=\"colab-df-convert\" onclick=\"convertToInteractive('df-bc6aa872-fc78-4e39-ab0b-83ee4fb6a419')\"\n",
              "              title=\"Convert this dataframe to an interactive table.\"\n",
              "              style=\"display:none;\">\n",
              "        \n",
              "  <svg xmlns=\"http://www.w3.org/2000/svg\" height=\"24px\"viewBox=\"0 0 24 24\"\n",
              "       width=\"24px\">\n",
              "    <path d=\"M0 0h24v24H0V0z\" fill=\"none\"/>\n",
              "    <path d=\"M18.56 5.44l.94 2.06.94-2.06 2.06-.94-2.06-.94-.94-2.06-.94 2.06-2.06.94zm-11 1L8.5 8.5l.94-2.06 2.06-.94-2.06-.94L8.5 2.5l-.94 2.06-2.06.94zm10 10l.94 2.06.94-2.06 2.06-.94-2.06-.94-.94-2.06-.94 2.06-2.06.94z\"/><path d=\"M17.41 7.96l-1.37-1.37c-.4-.4-.92-.59-1.43-.59-.52 0-1.04.2-1.43.59L10.3 9.45l-7.72 7.72c-.78.78-.78 2.05 0 2.83L4 21.41c.39.39.9.59 1.41.59.51 0 1.02-.2 1.41-.59l7.78-7.78 2.81-2.81c.8-.78.8-2.07 0-2.86zM5.41 20L4 18.59l7.72-7.72 1.47 1.35L5.41 20z\"/>\n",
              "  </svg>\n",
              "      </button>\n",
              "      \n",
              "  <style>\n",
              "    .colab-df-container {\n",
              "      display:flex;\n",
              "      flex-wrap:wrap;\n",
              "      gap: 12px;\n",
              "    }\n",
              "\n",
              "    .colab-df-convert {\n",
              "      background-color: #E8F0FE;\n",
              "      border: none;\n",
              "      border-radius: 50%;\n",
              "      cursor: pointer;\n",
              "      display: none;\n",
              "      fill: #1967D2;\n",
              "      height: 32px;\n",
              "      padding: 0 0 0 0;\n",
              "      width: 32px;\n",
              "    }\n",
              "\n",
              "    .colab-df-convert:hover {\n",
              "      background-color: #E2EBFA;\n",
              "      box-shadow: 0px 1px 2px rgba(60, 64, 67, 0.3), 0px 1px 3px 1px rgba(60, 64, 67, 0.15);\n",
              "      fill: #174EA6;\n",
              "    }\n",
              "\n",
              "    [theme=dark] .colab-df-convert {\n",
              "      background-color: #3B4455;\n",
              "      fill: #D2E3FC;\n",
              "    }\n",
              "\n",
              "    [theme=dark] .colab-df-convert:hover {\n",
              "      background-color: #434B5C;\n",
              "      box-shadow: 0px 1px 3px 1px rgba(0, 0, 0, 0.15);\n",
              "      filter: drop-shadow(0px 1px 2px rgba(0, 0, 0, 0.3));\n",
              "      fill: #FFFFFF;\n",
              "    }\n",
              "  </style>\n",
              "\n",
              "      <script>\n",
              "        const buttonEl =\n",
              "          document.querySelector('#df-bc6aa872-fc78-4e39-ab0b-83ee4fb6a419 button.colab-df-convert');\n",
              "        buttonEl.style.display =\n",
              "          google.colab.kernel.accessAllowed ? 'block' : 'none';\n",
              "\n",
              "        async function convertToInteractive(key) {\n",
              "          const element = document.querySelector('#df-bc6aa872-fc78-4e39-ab0b-83ee4fb6a419');\n",
              "          const dataTable =\n",
              "            await google.colab.kernel.invokeFunction('convertToInteractive',\n",
              "                                                     [key], {});\n",
              "          if (!dataTable) return;\n",
              "\n",
              "          const docLinkHtml = 'Like what you see? Visit the ' +\n",
              "            '<a target=\"_blank\" href=https://colab.research.google.com/notebooks/data_table.ipynb>data table notebook</a>'\n",
              "            + ' to learn more about interactive tables.';\n",
              "          element.innerHTML = '';\n",
              "          dataTable['output_type'] = 'display_data';\n",
              "          await google.colab.output.renderOutput(dataTable, element);\n",
              "          const docLink = document.createElement('div');\n",
              "          docLink.innerHTML = docLinkHtml;\n",
              "          element.appendChild(docLink);\n",
              "        }\n",
              "      </script>\n",
              "    </div>\n",
              "  </div>\n",
              "  "
            ]
          },
          "metadata": {},
          "execution_count": 22
        }
      ],
      "source": [
        "Result_SVM.insert(2, \"Class\", label, True)\n",
        "Result_SVM.head()"
      ]
    },
    {
      "cell_type": "code",
      "execution_count": null,
      "metadata": {
        "colab": {
          "base_uri": "https://localhost:8080/",
          "height": 391
        },
        "outputId": "c382b433-be4b-4f08-9952-b9b1c088287d",
        "id": "_fZWGPm2GKhT"
      },
      "outputs": [
        {
          "output_type": "stream",
          "name": "stdout",
          "text": [
            "2    112651\n",
            "3     86404\n",
            "1     59630\n",
            "5     24836\n",
            "4     23099\n",
            "Name: Class, dtype: int64\n"
          ]
        },
        {
          "output_type": "execute_result",
          "data": {
            "text/plain": [
              "<matplotlib.axes._subplots.AxesSubplot at 0x7f2e6ae48a10>"
            ]
          },
          "metadata": {},
          "execution_count": 23
        },
        {
          "output_type": "display_data",
          "data": {
            "text/plain": [
              "<Figure size 432x288 with 1 Axes>"
            ],
            "image/png": "[encoded data removed]"
          },
          "metadata": {
            "needs_background": "light"
          }
        }
      ],
      "source": [
        "print(pd.value_counts(Result_SVM['Class']))\n",
        "pd.value_counts(Result_SVM['Class']).plot.bar()"
      ]
    },
    {
      "cell_type": "code",
      "execution_count": null,
      "metadata": {
        "id": "ELRmtdaFGKhU"
      },
      "outputs": [],
      "source": [
        "Result_SVM.to_excel(\"Result_SVM_Whole.xlsx\")"
      ]
    },
    {
      "cell_type": "markdown",
      "metadata": {
        "id": "x4Yi9WvTm-ti"
      },
      "source": [
        "NN"
      ]
    },
    {
      "cell_type": "code",
      "execution_count": null,
      "metadata": {
        "id": "R1rajNEBnBlD"
      },
      "outputs": [],
      "source": [
        "from sklearn.preprocessing import  LabelEncoder\n",
        "from sklearn.model_selection import train_test_split\n",
        "from sklearn.metrics import roc_curve, auc\n",
        "from sklearn.preprocessing import label_binarize\n",
        "from sklearn.multiclass import OneVsRestClassifier\n",
        "from sklearn.metrics import roc_auc_score\n",
        "from sklearn.preprocessing import StandardScaler\n",
        "from sklearn.neural_network import MLPClassifier\n",
        "from sklearn import preprocessing\n",
        "\n",
        "\n",
        "# Learn to predict each class against the other   OneVsRestClassifier(classifier)\n",
        "classifier_NN = MLPClassifier(solver='lbfgs', alpha=0.001,hidden_layer_sizes=(200,),  max_iter=1500)\n",
        "classifier_NN.fit(x_train, y_train)\n",
        "\n",
        "\n",
        "\n"
      ]
    },
    {
      "cell_type": "code",
      "execution_count": null,
      "metadata": {
        "id": "uTcA1DfyrIiS"
      },
      "outputs": [],
      "source": [
        "from sklearn.model_selection import cross_val_score\n",
        "accuracies = cross_val_score(estimator=classifier_NN, X = x_train , y = y_train, cv = 10)\n",
        "\n",
        "print('Accuracy: {:0.2f} %'.format(accuracies.mean()*100))\n",
        "print('Standard Deviation: {:0.2f} %'.format(accuracies.std()*100))"
      ]
    },
    {
      "cell_type": "code",
      "execution_count": null,
      "metadata": {
        "id": "LRnJqPXqrZaz"
      },
      "outputs": [],
      "source": [
        "# Determine the value \n",
        "from sklearn.model_selection import GridSearchCV\n",
        "from sklearn.metrics import classification_report\n",
        "# Set the parameters by cross-validation\n",
        "tuned_parameters = {\"alpha\": [0.1,0.01,0.001], \"hidden_layer_sizes\": [10,100,200], \"max_iter\": [500,1000,1500]}\n",
        "scores = [\"precision\"]\n",
        "for score in scores:\n",
        "    print(\"# Tuning hyper-parameters for %s\" % score)\n",
        "    print()\n",
        "\n",
        "    clf = GridSearchCV(MLPClassifier(), tuned_parameters, scoring=\"%s_macro\" % score)\n",
        "    clf.fit(x_train, y_train)\n",
        "\n",
        "    print(\"Best parameters set found on development set:\")\n",
        "    print()\n",
        "    print(clf.best_params_)\n",
        "    print()\n",
        "    print(\"Grid scores on development set:\")\n",
        "    print()\n",
        "    means = clf.cv_results_[\"mean_test_score\"]\n",
        "    stds = clf.cv_results_[\"std_test_score\"]\n",
        "    for mean, std, params in zip(means, stds, clf.cv_results_[\"params\"]):\n",
        "        print(\"%0.3f (+/-%0.03f) for %r\" % (mean, std * 2, params))\n",
        "    print()\n",
        "\n",
        "    print(\"Detailed classification report:\")\n",
        "    print()\n",
        "    print(\"The model is trained on the full development set.\")\n",
        "    print(\"The scores are computed on the full evaluation set.\")\n",
        "    print()\n",
        "    y_true, y_pred = y_test, clf.predict(x_test)\n",
        "    print(classification_report(y_true, y_pred))\n",
        "    print()"
      ]
    },
    {
      "cell_type": "markdown",
      "metadata": {
        "id": "LxT1aPSMuwza"
      },
      "source": [
        "ROC_curve"
      ]
    },
    {
      "cell_type": "code",
      "execution_count": null,
      "metadata": {
        "colab": {
          "base_uri": "https://localhost:8080/",
          "height": 403
        },
        "id": "tI5jn6dRuog6",
        "outputId": "ee3899c2-2adf-4854-ec93-22395648ed2e"
      },
      "outputs": [
        {
          "output_type": "stream",
          "name": "stdout",
          "text": [
            "number of classes:  5\n",
            "AUC for Class 1: 0.9138124649073553\n",
            "AUC for Class 2: 0.8970443349753694\n",
            "AUC for Class 3: 0.8974736842105263\n",
            "AUC for Class 4: 0.9157088122605365\n",
            "AUC for Class 5: 0.8515527950310559\n"
          ]
        },
        {
          "output_type": "display_data",
          "data": {
            "text/plain": [
              "<Figure size 432x288 with 1 Axes>"
            ],
            "image/png": "[encoded data removed]"
          },
          "metadata": {
            "needs_background": "light"
          }
        }
      ],
      "source": [
        "#Calculate the y_score\n",
        "y_score = classifier_NN.predict_proba(x_test)\n",
        "#Binarize the output\n",
        "y_test_bin = label_binarize(y_test, classes=[1, 2, 3, 4, 5])\n",
        "n_classes = y_test_bin.shape[1]\n",
        "print('number of classes: ',n_classes)\n",
        "\n",
        "fpr_NN = dict()\n",
        "tpr_NN = dict()\n",
        "roc_auc_NN = dict()\n",
        "\n",
        "for i in range(n_classes):\n",
        "  fpr_NN[i], tpr_NN[i], _ = roc_curve(y_test_bin[:, i], y_score[:, i])\n",
        "  plt.plot(fpr_NN[i], tpr_NN[i], color='darkorange', lw=2)\n",
        "  print('AUC for Class {}: {}'.format(i+1, auc(fpr_NN[i], tpr_NN[i])))\n",
        "\n",
        "plt.plot([0, 1], [0, 1], color='navy', lw=2, linestyle='--')\n",
        "plt.xlim([0.0, 1.0])\n",
        "plt.ylim([0.0, 1.05])\n",
        "plt.xlabel('False Positive Rate')\n",
        "plt.ylabel('True Positive Rate')\n",
        "plt.title('Receiver Operating Characteristic Curves')\n",
        "plt.show()"
      ]
    },
    {
      "cell_type": "code",
      "execution_count": null,
      "metadata": {
        "colab": {
          "base_uri": "https://localhost:8080/",
          "height": 301
        },
        "id": "BBtGPDl9voy7",
        "outputId": "2ab987e2-513a-4d92-cf79-84487c8e66f3"
      },
      "outputs": [
        {
          "output_type": "display_data",
          "data": {
            "text/plain": [
              "<Figure size 432x288 with 1 Axes>"
            ],
            "image/png": "[encoded data removed]"
          },
          "metadata": {
            "needs_background": "light"
          }
        }
      ],
      "source": [
        "# Compute micro-average ROC curve and ROC area\n",
        "fpr_NN[\"micro\"], tpr_NN[\"micro\"], _ = roc_curve(y_test_bin.ravel(), y_score.ravel())\n",
        "roc_auc_NN[\"micro\"] = auc(fpr_NN[\"micro\"], tpr_NN[\"micro\"])\n",
        "\n",
        "csfont = {'fontname':'Times New Roman'}\n",
        "\n",
        "plt.figure()\n",
        "lw = 3.5\n",
        "plt.plot(\n",
        "    fpr_NN[\"micro\"],\n",
        "    tpr_NN[\"micro\"],\n",
        "    color=\"deeppink\",\n",
        "    lw=lw,\n",
        "    label=\"NN ROC curve (AUC = %0.2f)\" % roc_auc_NN[\"micro\"],\n",
        ")\n",
        "plt.plot([0, 1], [0, 1], color=\"navy\", lw=lw, linestyle=\"--\")\n",
        "plt.xlim([0.0, 1.0])\n",
        "plt.ylim([0.0, 1])\n",
        "plt.xlabel(\"False Positive Rate\",**csfont,fontsize=14)\n",
        "plt.ylabel(\"True Positive Rate\",**csfont,fontsize=14)\n",
        "plt.title(\"Receiver operating characteristics \",**csfont,fontsize=15)\n",
        "plt.legend(loc=\"lower right\")\n",
        "plt.grid(axis='y')\n",
        "plt.savefig(\"ROC_NN.jpg\",bbox_inches='tight',dpi=600)\n",
        "plt.show()"
      ]
    },
    {
      "cell_type": "code",
      "execution_count": null,
      "metadata": {
        "colab": {
          "base_uri": "https://localhost:8080/"
        },
        "id": "7io5Uk5Cv-MB",
        "outputId": "cdfc4511-4813-4e4e-849d-635e8aed1d87"
      },
      "outputs": [
        {
          "output_type": "stream",
          "name": "stdout",
          "text": [
            "(163,)\n",
            "Confusion Matrix: \n",
            "\n",
            "[[20  2  2  1  1]\n",
            " [ 3 45  8  2  0]\n",
            " [ 1  5 25  2  5]\n",
            " [ 0  1  4 13  0]\n",
            " [ 2  1  2  5 13]]\n",
            "\n",
            "overall Accuracy: 71.17 %\n",
            "              precision    recall  f1-score   support\n",
            "\n",
            "           1       0.77      0.77      0.77        26\n",
            "           2       0.83      0.78      0.80        58\n",
            "           3       0.61      0.66      0.63        38\n",
            "           4       0.57      0.72      0.63        18\n",
            "           5       0.68      0.57      0.62        23\n",
            "\n",
            "    accuracy                           0.71       163\n",
            "   macro avg       0.69      0.70      0.69       163\n",
            "weighted avg       0.72      0.71      0.71       163\n",
            "\n",
            "kappa : 0.624\n"
          ]
        }
      ],
      "source": [
        "from sklearn.metrics import confusion_matrix, accuracy_score,classification_report, cohen_kappa_score\n",
        "y_pred = classifier_NN.predict(x_test)\n",
        "np.set_printoptions(precision=2)\n",
        "print(y_pred.shape)\n",
        "\n",
        "\n",
        "#Calculate accuracy \n",
        "cm = confusion_matrix(y_test, y_pred)\n",
        "cr = classification_report(y_test, y_pred)\n",
        "print('Confusion Matrix: \\n')\n",
        "print(cm)\n",
        "\n",
        "print('\\noverall Accuracy: {:0.2f} %'.format(accuracy_score(y_test, y_pred)*100))  \n",
        "print(cr)\n",
        "\n",
        "k= cohen_kappa_score(y_test, y_pred)\n",
        "print('kappa : %0.3f'%k)"
      ]
    },
    {
      "cell_type": "code",
      "source": [
        "importances = classifier_NN.feature_importances_\n",
        "forest_importances = pd.Series(importances, index=[\"Rainfall\",\"Landuse\",\"Linemant\",\"Geology\",\"Drainage\",\"Slope\",\"DEM\"])\n",
        "csfont = {'fontname':'Times New Roman'}\n",
        "print(importances)\n",
        "std = np.std([tree.feature_importances_ for tree in classifier_RF.estimators_], axis=0)\n",
        "fig, ax = plt.subplots()\n",
        "forest_importances.plot.bar(yerr=std, ax=ax)\n",
        "ax.set_title(\"Feature importances \",**csfont,fontsize=15)\n",
        "ax.set_ylabel(\"Importance value\",**csfont,fontsize=15)\n",
        "fig.tight_layout()\n",
        "plt.grid()\n",
        "plt.savefig(\"importance.jpg\",bbox_inches='tight',dpi=600)"
      ],
      "metadata": {
        "id": "BFqZAyqmzPyF"
      },
      "execution_count": null,
      "outputs": []
    },
    {
      "cell_type": "markdown",
      "source": [
        "**Predict** **whole**"
      ],
      "metadata": {
        "id": "okTczyIOXu2T"
      }
    },
    {
      "cell_type": "code",
      "source": [
        "dataset1 = pd.read_csv('/content/20_Boreholes.txt',sep=\";\",decimal=\",\")\n",
        "dataset1.info()\n",
        "dataset1.head(5)"
      ],
      "metadata": {
        "colab": {
          "base_uri": "https://localhost:8080/",
          "height": 576
        },
        "id": "PQXGXK0LX2KK",
        "outputId": "0b36757c-a8b8-4f66-8628-180f3f5d029c"
      },
      "execution_count": null,
      "outputs": [
        {
          "output_type": "stream",
          "name": "stdout",
          "text": [
            "<class 'pandas.core.frame.DataFrame'>\n",
            "RangeIndex: 541 entries, 0 to 540\n",
            "Data columns (total 13 columns):\n",
            " #   Column      Non-Null Count  Dtype  \n",
            "---  ------      --------------  -----  \n",
            " 0   FID         541 non-null    int64  \n",
            " 1   OBJECTID    541 non-null    int64  \n",
            " 2   Level_ST    541 non-null    float64\n",
            " 3   GWL         541 non-null    float64\n",
            " 4   Class       541 non-null    int64  \n",
            " 5   NEAR_DIST   541 non-null    float64\n",
            " 6   Rainfall_e  541 non-null    float64\n",
            " 7   Landuse_ex  541 non-null    int64  \n",
            " 8   lineament_  541 non-null    float64\n",
            " 9   Geology_ex  541 non-null    int64  \n",
            " 10  Drainage_E  541 non-null    float64\n",
            " 11  slope_exte  541 non-null    float64\n",
            " 12  DEM_EXT     541 non-null    int64  \n",
            "dtypes: float64(7), int64(6)\n",
            "memory usage: 55.1 KB\n"
          ]
        },
        {
          "output_type": "execute_result",
          "data": {
            "text/plain": [
              "   FID  OBJECTID  Level_ST         GWL  Class  NEAR_DIST  Rainfall_e  \\\n",
              "0    0         1      43.0   43.000000      5        0.0  415.355011   \n",
              "1    1         2     102.1  102.099998      5        0.0  357.428009   \n",
              "2    2         3      17.9   34.310200      2        0.0  405.656006   \n",
              "3    3         4      15.0   13.004200      2        0.0  404.942993   \n",
              "4    4         5      35.0   34.999901      4        0.0  245.022995   \n",
              "\n",
              "   Landuse_ex  lineament_  Geology_ex  Drainage_E  slope_exte  DEM_EXT  \n",
              "0           8    0.000000           3    0.187792     5.42764      476  \n",
              "1           1    0.556626           8    0.234448     8.58893     1198  \n",
              "2           8    0.000000          24    2.370210    17.49400      458  \n",
              "3           8    0.000000          24    1.043940     9.73678      384  \n",
              "4           7    0.000000          20    1.365040     3.76924     1033  "
            ],
            "text/html": [
              "\n",
              "  <div id=\"df-643a0842-8723-4bb1-b446-edcfa734160b\">\n",
              "    <div class=\"colab-df-container\">\n",
              "      <div>\n",
              "<style scoped>\n",
              "    .dataframe tbody tr th:only-of-type {\n",
              "        vertical-align: middle;\n",
              "    }\n",
              "\n",
              "    .dataframe tbody tr th {\n",
              "        vertical-align: top;\n",
              "    }\n",
              "\n",
              "    .dataframe thead th {\n",
              "        text-align: right;\n",
              "    }\n",
              "</style>\n",
              "<table border=\"1\" class=\"dataframe\">\n",
              "  <thead>\n",
              "    <tr style=\"text-align: right;\">\n",
              "      <th></th>\n",
              "      <th>FID</th>\n",
              "      <th>OBJECTID</th>\n",
              "      <th>Level_ST</th>\n",
              "      <th>GWL</th>\n",
              "      <th>Class</th>\n",
              "      <th>NEAR_DIST</th>\n",
              "      <th>Rainfall_e</th>\n",
              "      <th>Landuse_ex</th>\n",
              "      <th>lineament_</th>\n",
              "      <th>Geology_ex</th>\n",
              "      <th>Drainage_E</th>\n",
              "      <th>slope_exte</th>\n",
              "      <th>DEM_EXT</th>\n",
              "    </tr>\n",
              "  </thead>\n",
              "  <tbody>\n",
              "    <tr>\n",
              "      <th>0</th>\n",
              "      <td>0</td>\n",
              "      <td>1</td>\n",
              "      <td>43.0</td>\n",
              "      <td>43.000000</td>\n",
              "      <td>5</td>\n",
              "      <td>0.0</td>\n",
              "      <td>415.355011</td>\n",
              "      <td>8</td>\n",
              "      <td>0.000000</td>\n",
              "      <td>3</td>\n",
              "      <td>0.187792</td>\n",
              "      <td>5.42764</td>\n",
              "      <td>476</td>\n",
              "    </tr>\n",
              "    <tr>\n",
              "      <th>1</th>\n",
              "      <td>1</td>\n",
              "      <td>2</td>\n",
              "      <td>102.1</td>\n",
              "      <td>102.099998</td>\n",
              "      <td>5</td>\n",
              "      <td>0.0</td>\n",
              "      <td>357.428009</td>\n",
              "      <td>1</td>\n",
              "      <td>0.556626</td>\n",
              "      <td>8</td>\n",
              "      <td>0.234448</td>\n",
              "      <td>8.58893</td>\n",
              "      <td>1198</td>\n",
              "    </tr>\n",
              "    <tr>\n",
              "      <th>2</th>\n",
              "      <td>2</td>\n",
              "      <td>3</td>\n",
              "      <td>17.9</td>\n",
              "      <td>34.310200</td>\n",
              "      <td>2</td>\n",
              "      <td>0.0</td>\n",
              "      <td>405.656006</td>\n",
              "      <td>8</td>\n",
              "      <td>0.000000</td>\n",
              "      <td>24</td>\n",
              "      <td>2.370210</td>\n",
              "      <td>17.49400</td>\n",
              "      <td>458</td>\n",
              "    </tr>\n",
              "    <tr>\n",
              "      <th>3</th>\n",
              "      <td>3</td>\n",
              "      <td>4</td>\n",
              "      <td>15.0</td>\n",
              "      <td>13.004200</td>\n",
              "      <td>2</td>\n",
              "      <td>0.0</td>\n",
              "      <td>404.942993</td>\n",
              "      <td>8</td>\n",
              "      <td>0.000000</td>\n",
              "      <td>24</td>\n",
              "      <td>1.043940</td>\n",
              "      <td>9.73678</td>\n",
              "      <td>384</td>\n",
              "    </tr>\n",
              "    <tr>\n",
              "      <th>4</th>\n",
              "      <td>4</td>\n",
              "      <td>5</td>\n",
              "      <td>35.0</td>\n",
              "      <td>34.999901</td>\n",
              "      <td>4</td>\n",
              "      <td>0.0</td>\n",
              "      <td>245.022995</td>\n",
              "      <td>7</td>\n",
              "      <td>0.000000</td>\n",
              "      <td>20</td>\n",
              "      <td>1.365040</td>\n",
              "      <td>3.76924</td>\n",
              "      <td>1033</td>\n",
              "    </tr>\n",
              "  </tbody>\n",
              "</table>\n",
              "</div>\n",
              "      <button class=\"colab-df-convert\" onclick=\"convertToInteractive('df-643a0842-8723-4bb1-b446-edcfa734160b')\"\n",
              "              title=\"Convert this dataframe to an interactive table.\"\n",
              "              style=\"display:none;\">\n",
              "        \n",
              "  <svg xmlns=\"http://www.w3.org/2000/svg\" height=\"24px\"viewBox=\"0 0 24 24\"\n",
              "       width=\"24px\">\n",
              "    <path d=\"M0 0h24v24H0V0z\" fill=\"none\"/>\n",
              "    <path d=\"M18.56 5.44l.94 2.06.94-2.06 2.06-.94-2.06-.94-.94-2.06-.94 2.06-2.06.94zm-11 1L8.5 8.5l.94-2.06 2.06-.94-2.06-.94L8.5 2.5l-.94 2.06-2.06.94zm10 10l.94 2.06.94-2.06 2.06-.94-2.06-.94-.94-2.06-.94 2.06-2.06.94z\"/><path d=\"M17.41 7.96l-1.37-1.37c-.4-.4-.92-.59-1.43-.59-.52 0-1.04.2-1.43.59L10.3 9.45l-7.72 7.72c-.78.78-.78 2.05 0 2.83L4 21.41c.39.39.9.59 1.41.59.51 0 1.02-.2 1.41-.59l7.78-7.78 2.81-2.81c.8-.78.8-2.07 0-2.86zM5.41 20L4 18.59l7.72-7.72 1.47 1.35L5.41 20z\"/>\n",
              "  </svg>\n",
              "      </button>\n",
              "      \n",
              "  <style>\n",
              "    .colab-df-container {\n",
              "      display:flex;\n",
              "      flex-wrap:wrap;\n",
              "      gap: 12px;\n",
              "    }\n",
              "\n",
              "    .colab-df-convert {\n",
              "      background-color: #E8F0FE;\n",
              "      border: none;\n",
              "      border-radius: 50%;\n",
              "      cursor: pointer;\n",
              "      display: none;\n",
              "      fill: #1967D2;\n",
              "      height: 32px;\n",
              "      padding: 0 0 0 0;\n",
              "      width: 32px;\n",
              "    }\n",
              "\n",
              "    .colab-df-convert:hover {\n",
              "      background-color: #E2EBFA;\n",
              "      box-shadow: 0px 1px 2px rgba(60, 64, 67, 0.3), 0px 1px 3px 1px rgba(60, 64, 67, 0.15);\n",
              "      fill: #174EA6;\n",
              "    }\n",
              "\n",
              "    [theme=dark] .colab-df-convert {\n",
              "      background-color: #3B4455;\n",
              "      fill: #D2E3FC;\n",
              "    }\n",
              "\n",
              "    [theme=dark] .colab-df-convert:hover {\n",
              "      background-color: #434B5C;\n",
              "      box-shadow: 0px 1px 3px 1px rgba(0, 0, 0, 0.15);\n",
              "      filter: drop-shadow(0px 1px 2px rgba(0, 0, 0, 0.3));\n",
              "      fill: #FFFFFF;\n",
              "    }\n",
              "  </style>\n",
              "\n",
              "      <script>\n",
              "        const buttonEl =\n",
              "          document.querySelector('#df-643a0842-8723-4bb1-b446-edcfa734160b button.colab-df-convert');\n",
              "        buttonEl.style.display =\n",
              "          google.colab.kernel.accessAllowed ? 'block' : 'none';\n",
              "\n",
              "        async function convertToInteractive(key) {\n",
              "          const element = document.querySelector('#df-643a0842-8723-4bb1-b446-edcfa734160b');\n",
              "          const dataTable =\n",
              "            await google.colab.kernel.invokeFunction('convertToInteractive',\n",
              "                                                     [key], {});\n",
              "          if (!dataTable) return;\n",
              "\n",
              "          const docLinkHtml = 'Like what you see? Visit the ' +\n",
              "            '<a target=\"_blank\" href=https://colab.research.google.com/notebooks/data_table.ipynb>data table notebook</a>'\n",
              "            + ' to learn more about interactive tables.';\n",
              "          element.innerHTML = '';\n",
              "          dataTable['output_type'] = 'display_data';\n",
              "          await google.colab.output.renderOutput(dataTable, element);\n",
              "          const docLink = document.createElement('div');\n",
              "          docLink.innerHTML = docLinkHtml;\n",
              "          element.appendChild(docLink);\n",
              "        }\n",
              "      </script>\n",
              "    </div>\n",
              "  </div>\n",
              "  "
            ]
          },
          "metadata": {},
          "execution_count": 13
        }
      ]
    },
    {
      "cell_type": "code",
      "execution_count": null,
      "metadata": {
        "colab": {
          "base_uri": "https://localhost:8080/"
        },
        "outputId": "ad2e91b4-0597-4925-dd46-72c075edc8b7",
        "id": "dwzpfpEDUsJm"
      },
      "outputs": [
        {
          "output_type": "stream",
          "name": "stderr",
          "text": [
            "/usr/local/lib/python3.7/dist-packages/sklearn/neural_network/_multilayer_perceptron.py:549: ConvergenceWarning: lbfgs failed to converge (status=1):\n",
            "STOP: TOTAL NO. of ITERATIONS REACHED LIMIT.\n",
            "\n",
            "Increase the number of iterations (max_iter) or scale the data as shown in:\n",
            "    https://scikit-learn.org/stable/modules/preprocessing.html\n",
            "  self.n_iter_ = _check_optimize_result(\"lbfgs\", opt_res, self.max_iter)\n"
          ]
        },
        {
          "output_type": "execute_result",
          "data": {
            "text/plain": [
              "MLPClassifier(alpha=0.001, hidden_layer_sizes=(200,), max_iter=1500,\n",
              "              solver='lbfgs')"
            ]
          },
          "metadata": {},
          "execution_count": 14
        }
      ],
      "source": [
        "#Train the whole data \n",
        "x = dataset1.iloc[:, -7:].values  # [-2,-4]\n",
        "y_class=dataset1.iloc[:, -9].values\n",
        "\n",
        "\n",
        "sc_RF_All = StandardScaler()\n",
        "x_train_All = sc_RF_All.fit_transform(x)\n",
        "\n",
        "\n",
        "classifier_ALL = MLPClassifier(solver='lbfgs', alpha=0.001,hidden_layer_sizes=(200,),  max_iter=1500)\n",
        "\n",
        "classifier_ALL.fit(x_train_All, y_class)"
      ]
    },
    {
      "cell_type": "code",
      "execution_count": null,
      "metadata": {
        "colab": {
          "base_uri": "https://localhost:8080/",
          "height": 576
        },
        "outputId": "1f38ab95-7a5c-4726-c90e-6d27978185e9",
        "id": "8QlXrThMUsJo"
      },
      "outputs": [
        {
          "output_type": "stream",
          "name": "stdout",
          "text": [
            "(306620, 12)\n",
            "<class 'pandas.core.frame.DataFrame'>\n",
            "RangeIndex: 306620 entries, 0 to 306619\n",
            "Data columns (total 12 columns):\n",
            " #   Column      Non-Null Count   Dtype  \n",
            "---  ------      --------------   -----  \n",
            " 0   FID         306620 non-null  int64  \n",
            " 1   pointid     306620 non-null  int64  \n",
            " 2   grid_code   306620 non-null  float64\n",
            " 3   LAT         306620 non-null  float64\n",
            " 4   LONG        306620 non-null  float64\n",
            " 5   Rainfall_e  306620 non-null  float64\n",
            " 6   Landuse_ex  306620 non-null  int64  \n",
            " 7   lineament_  306620 non-null  float64\n",
            " 8   Geology_ex  306620 non-null  int64  \n",
            " 9   Drainage_E  306620 non-null  float64\n",
            " 10  slope_exte  306620 non-null  float64\n",
            " 11  DEM_EXT     306620 non-null  int64  \n",
            "dtypes: float64(7), int64(5)\n",
            "memory usage: 28.1 MB\n"
          ]
        },
        {
          "output_type": "execute_result",
          "data": {
            "text/plain": [
              "   FID  pointid  grid_code        LAT      LONG  Rainfall_e  Landuse_ex  \\\n",
              "0    0   464495        0.0  34.958714 -0.920515  454.028015           8   \n",
              "1    1   464496        0.0  34.958702 -0.919858  454.144989           8   \n",
              "2    2   464497        0.0  34.958691 -0.919202  454.260010           8   \n",
              "3    3   464498        0.0  34.958680 -0.918545  454.372986           8   \n",
              "4    4   464499        0.0  34.958669 -0.917888  454.484009           8   \n",
              "\n",
              "   lineament_  Geology_ex  Drainage_E  slope_exte  DEM_EXT  \n",
              "0         0.0           4    0.792559     4.76364      708  \n",
              "1         0.0           4    0.767772     6.18293      709  \n",
              "2         0.0           4    0.758741     6.25510      709  \n",
              "3         0.0           4    0.792958     6.52699      708  \n",
              "4         0.0           4    0.826668     4.58231      711  "
            ],
            "text/html": [
              "\n",
              "  <div id=\"df-76b65e9e-2f9e-40b0-8724-e4f6c65c1ba0\">\n",
              "    <div class=\"colab-df-container\">\n",
              "      <div>\n",
              "<style scoped>\n",
              "    .dataframe tbody tr th:only-of-type {\n",
              "        vertical-align: middle;\n",
              "    }\n",
              "\n",
              "    .dataframe tbody tr th {\n",
              "        vertical-align: top;\n",
              "    }\n",
              "\n",
              "    .dataframe thead th {\n",
              "        text-align: right;\n",
              "    }\n",
              "</style>\n",
              "<table border=\"1\" class=\"dataframe\">\n",
              "  <thead>\n",
              "    <tr style=\"text-align: right;\">\n",
              "      <th></th>\n",
              "      <th>FID</th>\n",
              "      <th>pointid</th>\n",
              "      <th>grid_code</th>\n",
              "      <th>LAT</th>\n",
              "      <th>LONG</th>\n",
              "      <th>Rainfall_e</th>\n",
              "      <th>Landuse_ex</th>\n",
              "      <th>lineament_</th>\n",
              "      <th>Geology_ex</th>\n",
              "      <th>Drainage_E</th>\n",
              "      <th>slope_exte</th>\n",
              "      <th>DEM_EXT</th>\n",
              "    </tr>\n",
              "  </thead>\n",
              "  <tbody>\n",
              "    <tr>\n",
              "      <th>0</th>\n",
              "      <td>0</td>\n",
              "      <td>464495</td>\n",
              "      <td>0.0</td>\n",
              "      <td>34.958714</td>\n",
              "      <td>-0.920515</td>\n",
              "      <td>454.028015</td>\n",
              "      <td>8</td>\n",
              "      <td>0.0</td>\n",
              "      <td>4</td>\n",
              "      <td>0.792559</td>\n",
              "      <td>4.76364</td>\n",
              "      <td>708</td>\n",
              "    </tr>\n",
              "    <tr>\n",
              "      <th>1</th>\n",
              "      <td>1</td>\n",
              "      <td>464496</td>\n",
              "      <td>0.0</td>\n",
              "      <td>34.958702</td>\n",
              "      <td>-0.919858</td>\n",
              "      <td>454.144989</td>\n",
              "      <td>8</td>\n",
              "      <td>0.0</td>\n",
              "      <td>4</td>\n",
              "      <td>0.767772</td>\n",
              "      <td>6.18293</td>\n",
              "      <td>709</td>\n",
              "    </tr>\n",
              "    <tr>\n",
              "      <th>2</th>\n",
              "      <td>2</td>\n",
              "      <td>464497</td>\n",
              "      <td>0.0</td>\n",
              "      <td>34.958691</td>\n",
              "      <td>-0.919202</td>\n",
              "      <td>454.260010</td>\n",
              "      <td>8</td>\n",
              "      <td>0.0</td>\n",
              "      <td>4</td>\n",
              "      <td>0.758741</td>\n",
              "      <td>6.25510</td>\n",
              "      <td>709</td>\n",
              "    </tr>\n",
              "    <tr>\n",
              "      <th>3</th>\n",
              "      <td>3</td>\n",
              "      <td>464498</td>\n",
              "      <td>0.0</td>\n",
              "      <td>34.958680</td>\n",
              "      <td>-0.918545</td>\n",
              "      <td>454.372986</td>\n",
              "      <td>8</td>\n",
              "      <td>0.0</td>\n",
              "      <td>4</td>\n",
              "      <td>0.792958</td>\n",
              "      <td>6.52699</td>\n",
              "      <td>708</td>\n",
              "    </tr>\n",
              "    <tr>\n",
              "      <th>4</th>\n",
              "      <td>4</td>\n",
              "      <td>464499</td>\n",
              "      <td>0.0</td>\n",
              "      <td>34.958669</td>\n",
              "      <td>-0.917888</td>\n",
              "      <td>454.484009</td>\n",
              "      <td>8</td>\n",
              "      <td>0.0</td>\n",
              "      <td>4</td>\n",
              "      <td>0.826668</td>\n",
              "      <td>4.58231</td>\n",
              "      <td>711</td>\n",
              "    </tr>\n",
              "  </tbody>\n",
              "</table>\n",
              "</div>\n",
              "      <button class=\"colab-df-convert\" onclick=\"convertToInteractive('df-76b65e9e-2f9e-40b0-8724-e4f6c65c1ba0')\"\n",
              "              title=\"Convert this dataframe to an interactive table.\"\n",
              "              style=\"display:none;\">\n",
              "        \n",
              "  <svg xmlns=\"http://www.w3.org/2000/svg\" height=\"24px\"viewBox=\"0 0 24 24\"\n",
              "       width=\"24px\">\n",
              "    <path d=\"M0 0h24v24H0V0z\" fill=\"none\"/>\n",
              "    <path d=\"M18.56 5.44l.94 2.06.94-2.06 2.06-.94-2.06-.94-.94-2.06-.94 2.06-2.06.94zm-11 1L8.5 8.5l.94-2.06 2.06-.94-2.06-.94L8.5 2.5l-.94 2.06-2.06.94zm10 10l.94 2.06.94-2.06 2.06-.94-2.06-.94-.94-2.06-.94 2.06-2.06.94z\"/><path d=\"M17.41 7.96l-1.37-1.37c-.4-.4-.92-.59-1.43-.59-.52 0-1.04.2-1.43.59L10.3 9.45l-7.72 7.72c-.78.78-.78 2.05 0 2.83L4 21.41c.39.39.9.59 1.41.59.51 0 1.02-.2 1.41-.59l7.78-7.78 2.81-2.81c.8-.78.8-2.07 0-2.86zM5.41 20L4 18.59l7.72-7.72 1.47 1.35L5.41 20z\"/>\n",
              "  </svg>\n",
              "      </button>\n",
              "      \n",
              "  <style>\n",
              "    .colab-df-container {\n",
              "      display:flex;\n",
              "      flex-wrap:wrap;\n",
              "      gap: 12px;\n",
              "    }\n",
              "\n",
              "    .colab-df-convert {\n",
              "      background-color: #E8F0FE;\n",
              "      border: none;\n",
              "      border-radius: 50%;\n",
              "      cursor: pointer;\n",
              "      display: none;\n",
              "      fill: #1967D2;\n",
              "      height: 32px;\n",
              "      padding: 0 0 0 0;\n",
              "      width: 32px;\n",
              "    }\n",
              "\n",
              "    .colab-df-convert:hover {\n",
              "      background-color: #E2EBFA;\n",
              "      box-shadow: 0px 1px 2px rgba(60, 64, 67, 0.3), 0px 1px 3px 1px rgba(60, 64, 67, 0.15);\n",
              "      fill: #174EA6;\n",
              "    }\n",
              "\n",
              "    [theme=dark] .colab-df-convert {\n",
              "      background-color: #3B4455;\n",
              "      fill: #D2E3FC;\n",
              "    }\n",
              "\n",
              "    [theme=dark] .colab-df-convert:hover {\n",
              "      background-color: #434B5C;\n",
              "      box-shadow: 0px 1px 3px 1px rgba(0, 0, 0, 0.15);\n",
              "      filter: drop-shadow(0px 1px 2px rgba(0, 0, 0, 0.3));\n",
              "      fill: #FFFFFF;\n",
              "    }\n",
              "  </style>\n",
              "\n",
              "      <script>\n",
              "        const buttonEl =\n",
              "          document.querySelector('#df-76b65e9e-2f9e-40b0-8724-e4f6c65c1ba0 button.colab-df-convert');\n",
              "        buttonEl.style.display =\n",
              "          google.colab.kernel.accessAllowed ? 'block' : 'none';\n",
              "\n",
              "        async function convertToInteractive(key) {\n",
              "          const element = document.querySelector('#df-76b65e9e-2f9e-40b0-8724-e4f6c65c1ba0');\n",
              "          const dataTable =\n",
              "            await google.colab.kernel.invokeFunction('convertToInteractive',\n",
              "                                                     [key], {});\n",
              "          if (!dataTable) return;\n",
              "\n",
              "          const docLinkHtml = 'Like what you see? Visit the ' +\n",
              "            '<a target=\"_blank\" href=https://colab.research.google.com/notebooks/data_table.ipynb>data table notebook</a>'\n",
              "            + ' to learn more about interactive tables.';\n",
              "          element.innerHTML = '';\n",
              "          dataTable['output_type'] = 'display_data';\n",
              "          await google.colab.output.renderOutput(dataTable, element);\n",
              "          const docLink = document.createElement('div');\n",
              "          docLink.innerHTML = docLinkHtml;\n",
              "          element.appendChild(docLink);\n",
              "        }\n",
              "      </script>\n",
              "    </div>\n",
              "  </div>\n",
              "  "
            ]
          },
          "metadata": {},
          "execution_count": 15
        }
      ],
      "source": [
        "dataset2 = pd.read_csv('/content/drive/MyDrive/studyareapoints.txt',sep=\";\",decimal=\",\")\n",
        "print(dataset2.shape)\n",
        "dataset2.info()\n",
        "dataset2.head()\n"
      ]
    },
    {
      "cell_type": "code",
      "execution_count": null,
      "metadata": {
        "colab": {
          "base_uri": "https://localhost:8080/",
          "height": 354
        },
        "outputId": "7d99a964-e844-4832-b3bf-d4861abf2c18",
        "id": "i2nuWEDDUsJp"
      },
      "outputs": [
        {
          "output_type": "stream",
          "name": "stdout",
          "text": [
            "[[4.54e+02 8.00e+00 0.00e+00 ... 7.93e-01 4.76e+00 7.08e+02]\n",
            " [4.54e+02 8.00e+00 0.00e+00 ... 7.68e-01 6.18e+00 7.09e+02]\n",
            " [4.54e+02 8.00e+00 0.00e+00 ... 7.59e-01 6.26e+00 7.09e+02]\n",
            " ...\n",
            " [4.09e+02 8.00e+00 0.00e+00 ... 4.46e-01 4.53e+00 6.71e+02]\n",
            " [4.09e+02 8.00e+00 0.00e+00 ... 4.30e-01 2.39e+00 6.73e+02]\n",
            " [4.09e+02 8.00e+00 0.00e+00 ... 4.13e-01 8.11e+00 6.71e+02]]\n",
            "(306620, 7)\n"
          ]
        },
        {
          "output_type": "execute_result",
          "data": {
            "text/plain": [
              "         LAT      LONG\n",
              "0  34.958714 -0.920515\n",
              "1  34.958702 -0.919858\n",
              "2  34.958691 -0.919202\n",
              "3  34.958680 -0.918545\n",
              "4  34.958669 -0.917888"
            ],
            "text/html": [
              "\n",
              "  <div id=\"df-5077bdb1-d70f-4b0f-8782-cebd2f1217ef\">\n",
              "    <div class=\"colab-df-container\">\n",
              "      <div>\n",
              "<style scoped>\n",
              "    .dataframe tbody tr th:only-of-type {\n",
              "        vertical-align: middle;\n",
              "    }\n",
              "\n",
              "    .dataframe tbody tr th {\n",
              "        vertical-align: top;\n",
              "    }\n",
              "\n",
              "    .dataframe thead th {\n",
              "        text-align: right;\n",
              "    }\n",
              "</style>\n",
              "<table border=\"1\" class=\"dataframe\">\n",
              "  <thead>\n",
              "    <tr style=\"text-align: right;\">\n",
              "      <th></th>\n",
              "      <th>LAT</th>\n",
              "      <th>LONG</th>\n",
              "    </tr>\n",
              "  </thead>\n",
              "  <tbody>\n",
              "    <tr>\n",
              "      <th>0</th>\n",
              "      <td>34.958714</td>\n",
              "      <td>-0.920515</td>\n",
              "    </tr>\n",
              "    <tr>\n",
              "      <th>1</th>\n",
              "      <td>34.958702</td>\n",
              "      <td>-0.919858</td>\n",
              "    </tr>\n",
              "    <tr>\n",
              "      <th>2</th>\n",
              "      <td>34.958691</td>\n",
              "      <td>-0.919202</td>\n",
              "    </tr>\n",
              "    <tr>\n",
              "      <th>3</th>\n",
              "      <td>34.958680</td>\n",
              "      <td>-0.918545</td>\n",
              "    </tr>\n",
              "    <tr>\n",
              "      <th>4</th>\n",
              "      <td>34.958669</td>\n",
              "      <td>-0.917888</td>\n",
              "    </tr>\n",
              "  </tbody>\n",
              "</table>\n",
              "</div>\n",
              "      <button class=\"colab-df-convert\" onclick=\"convertToInteractive('df-5077bdb1-d70f-4b0f-8782-cebd2f1217ef')\"\n",
              "              title=\"Convert this dataframe to an interactive table.\"\n",
              "              style=\"display:none;\">\n",
              "        \n",
              "  <svg xmlns=\"http://www.w3.org/2000/svg\" height=\"24px\"viewBox=\"0 0 24 24\"\n",
              "       width=\"24px\">\n",
              "    <path d=\"M0 0h24v24H0V0z\" fill=\"none\"/>\n",
              "    <path d=\"M18.56 5.44l.94 2.06.94-2.06 2.06-.94-2.06-.94-.94-2.06-.94 2.06-2.06.94zm-11 1L8.5 8.5l.94-2.06 2.06-.94-2.06-.94L8.5 2.5l-.94 2.06-2.06.94zm10 10l.94 2.06.94-2.06 2.06-.94-2.06-.94-.94-2.06-.94 2.06-2.06.94z\"/><path d=\"M17.41 7.96l-1.37-1.37c-.4-.4-.92-.59-1.43-.59-.52 0-1.04.2-1.43.59L10.3 9.45l-7.72 7.72c-.78.78-.78 2.05 0 2.83L4 21.41c.39.39.9.59 1.41.59.51 0 1.02-.2 1.41-.59l7.78-7.78 2.81-2.81c.8-.78.8-2.07 0-2.86zM5.41 20L4 18.59l7.72-7.72 1.47 1.35L5.41 20z\"/>\n",
              "  </svg>\n",
              "      </button>\n",
              "      \n",
              "  <style>\n",
              "    .colab-df-container {\n",
              "      display:flex;\n",
              "      flex-wrap:wrap;\n",
              "      gap: 12px;\n",
              "    }\n",
              "\n",
              "    .colab-df-convert {\n",
              "      background-color: #E8F0FE;\n",
              "      border: none;\n",
              "      border-radius: 50%;\n",
              "      cursor: pointer;\n",
              "      display: none;\n",
              "      fill: #1967D2;\n",
              "      height: 32px;\n",
              "      padding: 0 0 0 0;\n",
              "      width: 32px;\n",
              "    }\n",
              "\n",
              "    .colab-df-convert:hover {\n",
              "      background-color: #E2EBFA;\n",
              "      box-shadow: 0px 1px 2px rgba(60, 64, 67, 0.3), 0px 1px 3px 1px rgba(60, 64, 67, 0.15);\n",
              "      fill: #174EA6;\n",
              "    }\n",
              "\n",
              "    [theme=dark] .colab-df-convert {\n",
              "      background-color: #3B4455;\n",
              "      fill: #D2E3FC;\n",
              "    }\n",
              "\n",
              "    [theme=dark] .colab-df-convert:hover {\n",
              "      background-color: #434B5C;\n",
              "      box-shadow: 0px 1px 3px 1px rgba(0, 0, 0, 0.15);\n",
              "      filter: drop-shadow(0px 1px 2px rgba(0, 0, 0, 0.3));\n",
              "      fill: #FFFFFF;\n",
              "    }\n",
              "  </style>\n",
              "\n",
              "      <script>\n",
              "        const buttonEl =\n",
              "          document.querySelector('#df-5077bdb1-d70f-4b0f-8782-cebd2f1217ef button.colab-df-convert');\n",
              "        buttonEl.style.display =\n",
              "          google.colab.kernel.accessAllowed ? 'block' : 'none';\n",
              "\n",
              "        async function convertToInteractive(key) {\n",
              "          const element = document.querySelector('#df-5077bdb1-d70f-4b0f-8782-cebd2f1217ef');\n",
              "          const dataTable =\n",
              "            await google.colab.kernel.invokeFunction('convertToInteractive',\n",
              "                                                     [key], {});\n",
              "          if (!dataTable) return;\n",
              "\n",
              "          const docLinkHtml = 'Like what you see? Visit the ' +\n",
              "            '<a target=\"_blank\" href=https://colab.research.google.com/notebooks/data_table.ipynb>data table notebook</a>'\n",
              "            + ' to learn more about interactive tables.';\n",
              "          element.innerHTML = '';\n",
              "          dataTable['output_type'] = 'display_data';\n",
              "          await google.colab.output.renderOutput(dataTable, element);\n",
              "          const docLink = document.createElement('div');\n",
              "          docLink.innerHTML = docLinkHtml;\n",
              "          element.appendChild(docLink);\n",
              "        }\n",
              "      </script>\n",
              "    </div>\n",
              "  </div>\n",
              "  "
            ]
          },
          "metadata": {},
          "execution_count": 16
        }
      ],
      "source": [
        "XNL = dataset2.iloc[:, -7:].values  \n",
        "Result_NN = dataset2.iloc[:,[-9,-8]]\n",
        "print(XNL)\n",
        "print(XNL.shape)\n",
        "Result_NN.head()\n"
      ]
    },
    {
      "cell_type": "code",
      "execution_count": null,
      "metadata": {
        "colab": {
          "base_uri": "https://localhost:8080/"
        },
        "outputId": "c2293f61-209a-47db-8230-ffad35612342",
        "id": "X6f_PnoeUsJp"
      },
      "outputs": [
        {
          "output_type": "stream",
          "name": "stdout",
          "text": [
            "1\n",
            "(306620,)\n"
          ]
        }
      ],
      "source": [
        "XNL_T = sc_RF_All.transform(XNL) #feature scaling to unlabel data\n",
        "label = classifier_ALL.predict(XNL_T) # pridiction\n",
        "print(label[0])\n",
        "print(label.shape)"
      ]
    },
    {
      "cell_type": "code",
      "execution_count": null,
      "metadata": {
        "colab": {
          "base_uri": "https://localhost:8080/",
          "height": 206
        },
        "outputId": "ef8593b3-65cf-43fa-efce-4dc6dd5b4721",
        "id": "uGwjPo7YUsJq"
      },
      "outputs": [
        {
          "output_type": "execute_result",
          "data": {
            "text/plain": [
              "         LAT      LONG  Class\n",
              "0  34.958714 -0.920515      1\n",
              "1  34.958702 -0.919858      1\n",
              "2  34.958691 -0.919202      1\n",
              "3  34.958680 -0.918545      1\n",
              "4  34.958669 -0.917888      1"
            ],
            "text/html": [
              "\n",
              "  <div id=\"df-3bf8f60d-68dd-458b-9806-7ab47f675bd7\">\n",
              "    <div class=\"colab-df-container\">\n",
              "      <div>\n",
              "<style scoped>\n",
              "    .dataframe tbody tr th:only-of-type {\n",
              "        vertical-align: middle;\n",
              "    }\n",
              "\n",
              "    .dataframe tbody tr th {\n",
              "        vertical-align: top;\n",
              "    }\n",
              "\n",
              "    .dataframe thead th {\n",
              "        text-align: right;\n",
              "    }\n",
              "</style>\n",
              "<table border=\"1\" class=\"dataframe\">\n",
              "  <thead>\n",
              "    <tr style=\"text-align: right;\">\n",
              "      <th></th>\n",
              "      <th>LAT</th>\n",
              "      <th>LONG</th>\n",
              "      <th>Class</th>\n",
              "    </tr>\n",
              "  </thead>\n",
              "  <tbody>\n",
              "    <tr>\n",
              "      <th>0</th>\n",
              "      <td>34.958714</td>\n",
              "      <td>-0.920515</td>\n",
              "      <td>1</td>\n",
              "    </tr>\n",
              "    <tr>\n",
              "      <th>1</th>\n",
              "      <td>34.958702</td>\n",
              "      <td>-0.919858</td>\n",
              "      <td>1</td>\n",
              "    </tr>\n",
              "    <tr>\n",
              "      <th>2</th>\n",
              "      <td>34.958691</td>\n",
              "      <td>-0.919202</td>\n",
              "      <td>1</td>\n",
              "    </tr>\n",
              "    <tr>\n",
              "      <th>3</th>\n",
              "      <td>34.958680</td>\n",
              "      <td>-0.918545</td>\n",
              "      <td>1</td>\n",
              "    </tr>\n",
              "    <tr>\n",
              "      <th>4</th>\n",
              "      <td>34.958669</td>\n",
              "      <td>-0.917888</td>\n",
              "      <td>1</td>\n",
              "    </tr>\n",
              "  </tbody>\n",
              "</table>\n",
              "</div>\n",
              "      <button class=\"colab-df-convert\" onclick=\"convertToInteractive('df-3bf8f60d-68dd-458b-9806-7ab47f675bd7')\"\n",
              "              title=\"Convert this dataframe to an interactive table.\"\n",
              "              style=\"display:none;\">\n",
              "        \n",
              "  <svg xmlns=\"http://www.w3.org/2000/svg\" height=\"24px\"viewBox=\"0 0 24 24\"\n",
              "       width=\"24px\">\n",
              "    <path d=\"M0 0h24v24H0V0z\" fill=\"none\"/>\n",
              "    <path d=\"M18.56 5.44l.94 2.06.94-2.06 2.06-.94-2.06-.94-.94-2.06-.94 2.06-2.06.94zm-11 1L8.5 8.5l.94-2.06 2.06-.94-2.06-.94L8.5 2.5l-.94 2.06-2.06.94zm10 10l.94 2.06.94-2.06 2.06-.94-2.06-.94-.94-2.06-.94 2.06-2.06.94z\"/><path d=\"M17.41 7.96l-1.37-1.37c-.4-.4-.92-.59-1.43-.59-.52 0-1.04.2-1.43.59L10.3 9.45l-7.72 7.72c-.78.78-.78 2.05 0 2.83L4 21.41c.39.39.9.59 1.41.59.51 0 1.02-.2 1.41-.59l7.78-7.78 2.81-2.81c.8-.78.8-2.07 0-2.86zM5.41 20L4 18.59l7.72-7.72 1.47 1.35L5.41 20z\"/>\n",
              "  </svg>\n",
              "      </button>\n",
              "      \n",
              "  <style>\n",
              "    .colab-df-container {\n",
              "      display:flex;\n",
              "      flex-wrap:wrap;\n",
              "      gap: 12px;\n",
              "    }\n",
              "\n",
              "    .colab-df-convert {\n",
              "      background-color: #E8F0FE;\n",
              "      border: none;\n",
              "      border-radius: 50%;\n",
              "      cursor: pointer;\n",
              "      display: none;\n",
              "      fill: #1967D2;\n",
              "      height: 32px;\n",
              "      padding: 0 0 0 0;\n",
              "      width: 32px;\n",
              "    }\n",
              "\n",
              "    .colab-df-convert:hover {\n",
              "      background-color: #E2EBFA;\n",
              "      box-shadow: 0px 1px 2px rgba(60, 64, 67, 0.3), 0px 1px 3px 1px rgba(60, 64, 67, 0.15);\n",
              "      fill: #174EA6;\n",
              "    }\n",
              "\n",
              "    [theme=dark] .colab-df-convert {\n",
              "      background-color: #3B4455;\n",
              "      fill: #D2E3FC;\n",
              "    }\n",
              "\n",
              "    [theme=dark] .colab-df-convert:hover {\n",
              "      background-color: #434B5C;\n",
              "      box-shadow: 0px 1px 3px 1px rgba(0, 0, 0, 0.15);\n",
              "      filter: drop-shadow(0px 1px 2px rgba(0, 0, 0, 0.3));\n",
              "      fill: #FFFFFF;\n",
              "    }\n",
              "  </style>\n",
              "\n",
              "      <script>\n",
              "        const buttonEl =\n",
              "          document.querySelector('#df-3bf8f60d-68dd-458b-9806-7ab47f675bd7 button.colab-df-convert');\n",
              "        buttonEl.style.display =\n",
              "          google.colab.kernel.accessAllowed ? 'block' : 'none';\n",
              "\n",
              "        async function convertToInteractive(key) {\n",
              "          const element = document.querySelector('#df-3bf8f60d-68dd-458b-9806-7ab47f675bd7');\n",
              "          const dataTable =\n",
              "            await google.colab.kernel.invokeFunction('convertToInteractive',\n",
              "                                                     [key], {});\n",
              "          if (!dataTable) return;\n",
              "\n",
              "          const docLinkHtml = 'Like what you see? Visit the ' +\n",
              "            '<a target=\"_blank\" href=https://colab.research.google.com/notebooks/data_table.ipynb>data table notebook</a>'\n",
              "            + ' to learn more about interactive tables.';\n",
              "          element.innerHTML = '';\n",
              "          dataTable['output_type'] = 'display_data';\n",
              "          await google.colab.output.renderOutput(dataTable, element);\n",
              "          const docLink = document.createElement('div');\n",
              "          docLink.innerHTML = docLinkHtml;\n",
              "          element.appendChild(docLink);\n",
              "        }\n",
              "      </script>\n",
              "    </div>\n",
              "  </div>\n",
              "  "
            ]
          },
          "metadata": {},
          "execution_count": 18
        }
      ],
      "source": [
        "Result_NN.insert(2, \"Class\", label, True)\n",
        "Result_NN.head()"
      ]
    },
    {
      "cell_type": "code",
      "execution_count": null,
      "metadata": {
        "colab": {
          "base_uri": "https://localhost:8080/",
          "height": 391
        },
        "outputId": "06f18108-ea81-438f-8dd5-60a084d56d4d",
        "id": "yPUGRw22UsJq"
      },
      "outputs": [
        {
          "output_type": "stream",
          "name": "stdout",
          "text": [
            "3    78789\n",
            "1    78511\n",
            "2    77172\n",
            "5    59990\n",
            "4    12158\n",
            "Name: Class, dtype: int64\n"
          ]
        },
        {
          "output_type": "execute_result",
          "data": {
            "text/plain": [
              "<matplotlib.axes._subplots.AxesSubplot at 0x7f725b0c8550>"
            ]
          },
          "metadata": {},
          "execution_count": 19
        },
        {
          "output_type": "display_data",
          "data": {
            "text/plain": [
              "<Figure size 432x288 with 1 Axes>"
            ],
            "image/png": "[encoded data removed]"
          },
          "metadata": {
            "needs_background": "light"
          }
        }
      ],
      "source": [
        "print(pd.value_counts(Result_NN['Class']))\n",
        "pd.value_counts(Result_NN['Class']).plot.bar()"
      ]
    },
    {
      "cell_type": "code",
      "execution_count": null,
      "metadata": {
        "id": "t8i9JlDsUsJq"
      },
      "outputs": [],
      "source": [
        "Result_NN.to_excel(\"Result_NN_Whole.xlsx\")"
      ]
    },
    {
      "cell_type": "markdown",
      "source": [
        ""
      ],
      "metadata": {
        "id": "AD3O346I4fOb"
      }
    },
    {
      "cell_type": "markdown",
      "source": [
        "Pie Plot"
      ],
      "metadata": {
        "id": "nph_rSDU4fVN"
      }
    },
    {
      "cell_type": "code",
      "source": [
        "import matplotlib.pyplot as plt\n",
        "import numpy as np\n",
        "\n",
        "y = np.array([18,31, 30, 10, 11])\n",
        "mylabels = [\"Very High\", \"High\", \"Moderate\", \"Low\",\"Very Low\"]\n",
        "myexplode = [0, 0.1, 0, 0,0]\n",
        "mycolors = [\"DarkGreen\", \"YellowGreen\", \"Yellow\", \"DarkOrange\",\"Red\"]\n",
        "\n",
        "\n",
        "plt.pie(y, labels = mylabels, explode = myexplode, shadow = True,colors = mycolors)\n",
        "plt.savefig(\"Pie_NN.jpg\",dpi=200)\n",
        "plt.show() \n",
        "\n",
        "\n"
      ],
      "metadata": {
        "colab": {
          "base_uri": "https://localhost:8080/",
          "height": 248
        },
        "id": "Hj5Dwk9u4emL",
        "outputId": "715be048-1dad-4a16-9492-9484e7d74599"
      },
      "execution_count": null,
      "outputs": [
        {
          "output_type": "display_data",
          "data": {
            "text/plain": [
              "<Figure size 432x288 with 1 Axes>"
            ],
            "image/png": "[encoded data removed]"
          },
          "metadata": {}
        }
      ]
    },
    {
      "cell_type": "code",
      "source": [
        "from matplotlib import pyplot as plt\n",
        "import numpy as np\n",
        "fig = plt.figure()\n",
        "ax = fig.add_axes([0,0,1,1])\n",
        "ax.axis('equal')\n",
        "\n",
        "#y = np.array([18,31, 30, 10, 11])  #NN\n",
        "\n",
        "#y = np.array([7,41, 32, 8, 12])  #RF\n",
        "\n",
        "y = np.array([13,44, 30,8 ,5 ])  #SVM\n",
        "\n",
        "students = [23,17,35,29,12]\n",
        "mylabels = [\"Very High\", \"High\", \"Moderate\", \"Low\",\"Very Low\"]\n",
        "myexplode = [0, 0.1, 0, 0,0]\n",
        "mycolors = [\"DarkGreen\", \"YellowGreen\", \"Yellow\", \"DarkOrange\",\"Red\"]\n",
        "ax.pie(y, labels = mylabels,autopct='%1.2f%%',explode = myexplode,colors = mycolors)\n",
        "plt.savefig(\"Pie_SVM.jpg\",bbox_inches='tight',dpi=600)\n",
        "plt.show()"
      ],
      "metadata": {
        "colab": {
          "base_uri": "https://localhost:8080/",
          "height": 319
        },
        "id": "3Dh85UtEF8My",
        "outputId": "92e16ed2-b801-4963-d2f8-8b91dc74c36d"
      },
      "execution_count": null,
      "outputs": [
        {
          "output_type": "display_data",
          "data": {
            "text/plain": [
              "<Figure size 432x288 with 1 Axes>"
            ],
            "image/png": "[encoded data removed]"
          },
          "metadata": {}
        }
      ]
    }
  ],
  "metadata": {
    "colab": {
      "collapsed_sections": [],
      "name": "Journal_hydrology_groundwater.ipynb",
      "provenance": []
    },
    "kernelspec": {
      "display_name": "Python 3",
      "name": "python3"
    },
    "language_info": {
      "name": "python"
    }
  },
  "nbformat": 4,
  "nbformat_minor": 0
}